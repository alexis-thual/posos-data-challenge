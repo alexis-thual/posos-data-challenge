{
 "cells": [
  {
   "cell_type": "markdown",
   "metadata": {},
   "source": [
    "# Workflow Notebook\n",
    "This notebook is intended to present models which are loaded from other files as well as the results they allow us to reach."
   ]
  },
  {
   "cell_type": "markdown",
   "metadata": {},
   "source": [
    "## Global variables and imports"
   ]
  },
  {
   "cell_type": "code",
   "execution_count": 1,
   "metadata": {},
   "outputs": [
    {
     "name": "stderr",
     "output_type": "stream",
     "text": [
      "Using TensorFlow backend.\n"
     ]
    }
   ],
   "source": [
    "import csv\n",
    "import gensim\n",
    "import keras\n",
    "import matplotlib.pyplot as plt\n",
    "import numpy as np\n",
    "import os\n",
    "import pandas as pd\n",
    "\n",
    "from gensim.models import Word2Vec\n",
    "from keras.callbacks import ModelCheckpoint\n",
    "from keras.preprocessing import sequence, text\n",
    "from keras.utils.np_utils import to_categorical\n",
    "from sklearn.model_selection import train_test_split\n",
    "from tqdm import tqdm"
   ]
  },
  {
   "cell_type": "code",
   "execution_count": 2,
   "metadata": {},
   "outputs": [],
   "source": [
    "NB_CATEGORIES = 52\n",
    "PADDING = 150\n",
    "\n",
    "dataFolder = './../posos-data-challenge/challenge_data'\n",
    "xPath = os.path.join(dataFolder, 'input_train.csv')\n",
    "yPath = os.path.join(\n",
    "    dataFolder, 'challenge_output_data_training_file_predict_the_expected_answer.csv')"
   ]
  },
  {
   "cell_type": "code",
   "execution_count": 3,
   "metadata": {},
   "outputs": [],
   "source": [
    "class CustomModel():\n",
    "    '''Generic workflow class.'''\n",
    "\n",
    "    def __init__(self, **kwargs):\n",
    "        self.verbose = kwargs.get('verbose', False)\n",
    "\n",
    "        self.nbCategories = kwargs['nbCategories']\n",
    "        self.paddingLength = PADDING\n",
    "        self.maxNumberWords = (1e5)\n",
    "        self.trainable = kwargs.get('trainable', False)\n",
    "\n",
    "        self.tokenizer = text.Tokenizer(num_words=self.maxNumberWords)\n",
    "\n",
    "    def preprocess(self, x):\n",
    "        '''Turns sentences into padded word sequences.'''\n",
    "\n",
    "        self.tokenizer.fit_on_texts(x)\n",
    "        sequences = self.tokenizer.texts_to_sequences(x)\n",
    "        sequences = sequence.pad_sequences(sequences, self.paddingLength)\n",
    "\n",
    "        return sequences\n",
    "\n",
    "    def preprocessLabels(self, labels):\n",
    "        return to_categorical(labels, num_classes=self.nbCategories)\n",
    "\n",
    "    def train(self, x, y, epochs= 10, batch_size=32, validation_data=None,\n",
    "              callback=False):\n",
    "        if callback == True:\n",
    "            filepath= 'models_checkpoints/weights-improvement-{epoch:02d}-{val_acc:.2f}.hdf5'\n",
    "            checkpoint = ModelCheckpoint(filepath, monitor='val_acc',\n",
    "                                         verbose=1, save_best_only=True, mode='max')\n",
    "            callbacks_list = [checkpoint]\n",
    "\n",
    "            self.model.fit(x, y, shuffle='batch', epochs=epochs,\n",
    "                           batch_size=batch_size, validation_data=validation_data,\n",
    "                           callbacks=callbacks_list)\n",
    "        else:\n",
    "            self.model.fit(x, y, shuffle='batch', epochs=epochs,\n",
    "                           batch_size=batch_size, validation_data=validation_data)\n",
    "\n",
    "    def evaluate(self, x, y):\n",
    "        return self.model.evaluate(x, y)\n",
    "\n",
    "    def predict(self, x):\n",
    "        return self.model.predict(x)"
   ]
  },
  {
   "cell_type": "markdown",
   "metadata": {},
   "source": [
    "## Customize generic workflow"
   ]
  },
  {
   "cell_type": "markdown",
   "metadata": {},
   "source": [
    "### Perform spelling corrections"
   ]
  },
  {
   "cell_type": "code",
   "execution_count": 4,
   "metadata": {},
   "outputs": [],
   "source": [
    "correctionsPath = os.path.join(dataFolder, 'corrections.csv')"
   ]
  },
  {
   "cell_type": "code",
   "execution_count": 5,
   "metadata": {},
   "outputs": [],
   "source": [
    "class CustomModel(CustomModel):\n",
    "    '''Extended CustomModel'''\n",
    "\n",
    "    def spellingCorrection(self, x, correct_dict={}, verbose=False):\n",
    "        corrected_x = []\n",
    "        for w in x.split():\n",
    "            if w in correct_dict.keys():\n",
    "                w_corrected = corrected_dict[w]\n",
    "                if verbose == True:\n",
    "                    print('Correction of ' + w + ' in ' + w_corrected)\n",
    "                w = w_corrected\n",
    "            corrected_x.append(w)\n",
    "        return ' '.join(corrected_x)"
   ]
  },
  {
   "cell_type": "markdown",
   "metadata": {},
   "source": [
    "### Differenciate medics from other words\n",
    "We here use a list of medication names to distinguish better between common words and specialized ones."
   ]
  },
  {
   "cell_type": "code",
   "execution_count": 6,
   "metadata": {},
   "outputs": [
    {
     "name": "stdout",
     "output_type": "stream",
     "text": [
      "Liste de médicaments regroupant les libéllés ATC et lesdénominations de spécialité, de taille: 8275\n",
      "Sample of medicament names:  ['ubistesin adrenalinee', 'forene,', 'sevorane,', 'chirocaïne', 'duodopa', 'synagis', 'kaletra', 'humira', 'norvir', 'viekirax']\n"
     ]
    }
   ],
   "source": [
    "MEDICAMENTS = []\n",
    "medicsPath = os.path.join(dataFolder, 'medicaments_france.xls')\n",
    "medic_db = pd.read_excel(medicsPath)\n",
    "\n",
    "for m in medic_db['Dénomination spécialité']:\n",
    "    med = []\n",
    "    for w in m.split():\n",
    "        if w.lower()!=w:\n",
    "            med.append(w)\n",
    "    med = ' '.join(med)\n",
    "    if len(med)!=0:\n",
    "        med = med.lower()\n",
    "        if med not in MEDICAMENTS:\n",
    "            MEDICAMENTS.append(med.lower())\n",
    "\n",
    "for m in medic_db['Libellé ATC']:\n",
    "    med = m.split()[0].lower()\n",
    "    if med not in MEDICAMENTS:\n",
    "        MEDICAMENTS.append(med)\n",
    "\n",
    "print('Liste de médicaments regroupant les libéllés ATC et les'\n",
    "      'dénominations de spécialité, de taille: {}'.format(len(MEDICAMENTS)))\n",
    "print('Sample of medicament names: ', MEDICAMENTS[:10])"
   ]
  },
  {
   "cell_type": "code",
   "execution_count": 7,
   "metadata": {},
   "outputs": [],
   "source": [
    "class CustomModel(CustomModel):\n",
    "    '''Extended CustomModel'''\n",
    "    \n",
    "    def __init__(self, **kwargs):\n",
    "        super().__init__(**kwargs)\n",
    "        self.medicaments = kwargs['medicaments']"
   ]
  },
  {
   "cell_type": "markdown",
   "metadata": {},
   "source": [
    "### Designing the Model itself"
   ]
  },
  {
   "cell_type": "code",
   "execution_count": 8,
   "metadata": {},
   "outputs": [],
   "source": [
    "from keras.layers.embeddings import Embedding\n",
    "from keras.models import Model\n",
    "from keras import Input\n",
    "from keras.layers import Input, Conv1D, Dense, Dropout, GlobalMaxPooling1D\n",
    "\n",
    "class CustomModel(CustomModel):\n",
    "    '''Extended CustomModel'''\n",
    "\n",
    "    def buildCNN1D(self, embedding, drop_rate=0.3, nb_filters=128,\n",
    "                   filter_size=4, padding = PADDING):\n",
    "        self.embedding = embedding\n",
    "\n",
    "        my_input = keras.Input(shape=(self.paddingLength,), name= 'input')\n",
    "\n",
    "        embedding = (Embedding(input_dim=self.embedding.shape[0],\n",
    "                               output_dim=self.embedding.shape[1],\n",
    "                               weights=[self.embedding],\n",
    "                               input_length=self.paddingLength,\n",
    "                               trainable=self.trainable,\n",
    "                               name='embedding'))(my_input)\n",
    "        embedding_dropped = Dropout(drop_rate, name='drop0')(embedding)\n",
    "\n",
    "        conv1 = Conv1D(nb_filters, filter_size,\n",
    "                       activation='relu', name='conv1')(embedding_dropped)\n",
    "        pooled1 = GlobalMaxPooling1D(name='pool1')(conv1)\n",
    "        dropped1 = Dropout(drop_rate, name='drop1')(pooled1)\n",
    "        dense1 = Dense(self.nbCategories, activation = 'relu', name = 'dense1')(dropped1)\n",
    "        \n",
    "        prob = Dense(self.nbCategories, activation='softmax', name='softmax')(dense1)\n",
    "        \n",
    "        self.model = Model(my_input, prob)\n",
    "\n",
    "        self.model.compile(\n",
    "            loss='categorical_crossentropy',\n",
    "            optimizer='adam',\n",
    "            metrics=['accuracy'])"
   ]
  },
  {
   "cell_type": "code",
   "execution_count": 9,
   "metadata": {},
   "outputs": [],
   "source": [
    "from keras.layers.embeddings import Embedding\n",
    "from keras.models import Model\n",
    "from keras import Input\n",
    "from keras.layers import LSTM, Embedding, Dropout\n",
    "\n",
    "\n",
    "class CustomModel(CustomModel):\n",
    "    '''Extended CustomModel'''\n",
    "    \n",
    "    def buildLSTM(self, embedding, drop_rate=0.3, nb_filters=128, filter_size=3):\n",
    "        self.embedding = embedding\n",
    "\n",
    "        my_input = Input(shape=(self.paddingLength,), name= 'input')\n",
    "\n",
    "        embedding = Embedding(input_length=self.paddingLength,\n",
    "                                input_dim=self.embedding.shape[0],\n",
    "                                output_dim=self.embedding.shape[1],\n",
    "                                weights=[self.embedding],\n",
    "                                trainable=self.trainable,\n",
    "                                name='embedding')(my_input)\n",
    "\n",
    "        embedding_dropped = Dropout(drop_rate, name='drop0')(embedding)\n",
    "#         CNN cell\n",
    "#         conv1 = Conv1D(nb_filters, filter_size, activation='relu', name='conv1',\n",
    "#                        padding = 'same')(embedding_dropped)\n",
    "#         pooled_conv1 = MaxPooling1D(pool_size = 2, name = 'pool1')(conv1)\n",
    "#         dropped1 = Dropout(drop_rate, name = 'drop1')(pooled_conv1)\n",
    "        lstm1 = LSTM(100, name = 'lstm1', dropout= drop_rate,\n",
    "                     recurrent_dropout= drop_rate)(embedding_dropped)\n",
    "        dense1 = Dense(self.nbCategories, activation = 'relu', name = 'dense1')(lstm1)\n",
    "        prob = Dense(self.nbCategories, activation='softmax', name='softmax')(dense1)\n",
    "\n",
    "        self.model = Model(my_input, prob)\n",
    "\n",
    "        self.model.compile(\n",
    "            loss='categorical_crossentropy',\n",
    "            optimizer='adam',\n",
    "            metrics=['accuracy'])"
   ]
  },
  {
   "cell_type": "markdown",
   "metadata": {},
   "source": [
    "# implement a 2D convnet for text classification: \n",
    "#inspired from : https://machinelearningmastery.com/sequence-classification-lstm-recurrent-neural-networks-python-keras/"
   ]
  },
  {
   "cell_type": "code",
   "execution_count": 10,
   "metadata": {},
   "outputs": [],
   "source": [
    "from keras.layers.embeddings import Embedding\n",
    "from keras.models import Model\n",
    "from keras import Input\n",
    "from keras.layers import MaxPooling1D, LSTM, Conv1D\n",
    "\n",
    "\n",
    "class CustomModel(CustomModel):\n",
    "    '''Extended CustomModel'''\n",
    "    \n",
    "    def buildLSTM_CNN(self, embedding, drop_rate=0.3, nb_filters=128, filter_size=3):\n",
    "        self.embedding = embedding\n",
    "\n",
    "        my_input = Input(shape=(self.paddingLength,), name= 'input')\n",
    "\n",
    "        embedding = Embedding(input_length=self.paddingLength,\n",
    "                                input_dim=self.embedding.shape[0],\n",
    "                                output_dim=self.embedding.shape[1],\n",
    "                                weights=[self.embedding],\n",
    "                                trainable=self.trainable,\n",
    "                                name='embedding')(my_input)\n",
    "\n",
    "        embedding_dropped = Dropout(drop_rate, name='drop0')(embedding)\n",
    "        conv1 = Conv1D(nb_filters, filter_size, activation='relu',\n",
    "                       name='conv1', padding='same')(embedding_dropped)\n",
    "        pooled1 = MaxPooling1D(pool_size = 2, name = 'pool1')(conv1)\n",
    "        dropped1 = Dropout(drop_rate, name = 'drop1')(pooled1)\n",
    "        lstm1 = LSTM(100, name = 'lstm1',\n",
    "                     dropout= drop_rate, recurrent_dropout= drop_rate)(dropped1)\n",
    "        prob = Dense(self.nbCategories,\n",
    "                     activation='softmax', name='dense1')(lstm1)\n",
    "\n",
    "        self.model = Model(my_input, prob)\n",
    "\n",
    "        self.model.compile(\n",
    "            loss='categorical_crossentropy',\n",
    "            optimizer='adam',\n",
    "            metrics=['accuracy'])"
   ]
  },
  {
   "cell_type": "markdown",
   "metadata": {},
   "source": [
    "# implement a 2D convnet for text classification: \n",
    "#inspiration is here : http://www.wildml.com/2015/12/implementing-a-cnn-for-text-classification-in-tensorflow/"
   ]
  },
  {
   "cell_type": "code",
   "execution_count": 11,
   "metadata": {},
   "outputs": [
    {
     "ename": "SyntaxError",
     "evalue": "invalid syntax (<ipython-input-11-b5765693e142>, line 7)",
     "output_type": "error",
     "traceback": [
      "\u001b[0;36m  File \u001b[0;32m\"<ipython-input-11-b5765693e142>\"\u001b[0;36m, line \u001b[0;32m7\u001b[0m\n\u001b[0;31m    class CustomModel(CustomModel):\u001b[0m\n\u001b[0m        ^\u001b[0m\n\u001b[0;31mSyntaxError\u001b[0m\u001b[0;31m:\u001b[0m invalid syntax\n"
     ]
    }
   ],
   "source": [
    "from keras.layers.embeddings import Embedding\n",
    "from keras.models import Model\n",
    "from keras import Input\n",
    "from keras.layers import (Input, Conv2D, Dense, Dropout,\n",
    "                          MaxPooling2D, Flatten, Concatenate, Reshape)\n",
    "\n",
    "\n",
    "class CustomModel(CustomModel):\n",
    "    '''Extended CustomModel'''\n",
    "\n",
    "    def buildCNN2D(self, embedding, drop_rate=0.3, nb_filters=128, filter_size=[3, 5, 8],\n",
    "                   padding=PADDING):\n",
    "        if np.isscalar(filter_size):\n",
    "            filter_size = [3, 5, 8]\n",
    "            print(\"WARNING: You have to enter a list for the different\\\n",
    "            filter sizes, we modified directly to: {}\".format(filter_size))\n",
    "        \n",
    "        self.embedding = embedding\n",
    "\n",
    "        my_input = Input(shape=(self.paddingLength, ), name= 'input')\n",
    "\n",
    "        embedding = Embedding(input_dim=self.embedding.shape[0],\n",
    "                               output_dim=self.embedding.shape[1],\n",
    "                               weights=[self.embedding],\n",
    "                               input_length=self.paddingLength,\n",
    "                               trainable=self.trainable,\n",
    "                               name='embedding')(my_input)\n",
    "        embedding = Reshape((padding, self.embedding.shape[1], 1))(embedding)\n",
    "        embedding_dropped = Dropout(drop_rate, name='drop0')(embedding)\n",
    "        \n",
    "        # we concatenate 3 filter sizes\n",
    "        conv0 = Conv2D(nb_filters, (filter_size[0], self.embedding.shape[1]),\n",
    "                       activation='relu', name='conv0', padding='valid')(embedding_dropped)\n",
    "        pooled0 = MaxPooling2D(pool_size=(padding - filter_size[0] + 1, 1),\n",
    "                               strides=(1, 1), padding='valid', name='pool0')(conv0)\n",
    "        \n",
    "        conv1 = Conv2D(nb_filters, (filter_size[1], self.embedding.shape[1]),\n",
    "                       activation='relu', name='conv1', padding='valid')(embedding_dropped)\n",
    "        pooled1 = MaxPooling2D(pool_size = (padding - filter_size[1] + 1, 1),\n",
    "                               strides=(1, 1), padding='valid', name='pool1')(conv1)\n",
    "        \n",
    "        conv2 = Conv2D(nb_filters, (filter_size[2], self.embedding.shape[1]),\n",
    "                       activation='relu', name='conv2', padding='valid')(embedding_dropped)\n",
    "        pooled2 = MaxPooling2D(pool_size = (padding - filter_size[2] + 1, 1),\n",
    "                               strides=(1, 1), padding='valid', name='pool2')(conv2)\n",
    "        \n",
    "        concatenated = Concatenate(axis = 1)([pooled0, pooled1, pooled2])\n",
    "        flattened = keras.layers.Flatten()(concatenated)\n",
    "        dropped1 = Dropout(drop_rate, name='drop1')(flattened)  \n",
    "        prob = Dense(self.nbCategories, activation='softmax', name='dense2')(dropped1)\n",
    "\n",
    "        self.model = Model(my_input, prob)\n",
    "\n",
    "        self.model.compile(\n",
    "            loss='categorical_crossentropy',\n",
    "            optimizer='adam',\n",
    "            metrics=['accuracy'])"
   ]
  },
  {
   "cell_type": "markdown",
   "metadata": {},
   "source": [
    "## Training the Model"
   ]
  },
  {
   "cell_type": "code",
   "execution_count": 47,
   "metadata": {},
   "outputs": [],
   "source": [
    "# Model variables\n",
    "TRAINABLE = False # never train the embedding for the classification task (overfitting)\n",
    "PRE_TRAINED_DIM = 300 # Size of the pretrained embedding used here"
   ]
  },
  {
   "cell_type": "code",
   "execution_count": 48,
   "metadata": {},
   "outputs": [],
   "source": [
    "# Model instance creation\n",
    "model = CustomModel(nbCategories=NB_CATEGORIES, trainable=TRAINABLE, medicaments=MEDICAMENTS)\n",
    "\n",
    "# Loading, parsing and spliting training and testing data\n",
    "x = pd.read_csv(xPath, delimiter=';', usecols=[1]).values.ravel()\n",
    "y = pd.read_csv(yPath, delimiter=';', usecols=[1]).values.ravel()"
   ]
  },
  {
   "cell_type": "code",
   "execution_count": 49,
   "metadata": {},
   "outputs": [],
   "source": [
    "# Correct spelling mistakes\n",
    "corrected_dict = {}\n",
    "for key, val in csv.reader(open(correctionsPath)):\n",
    "    corrected_dict[key] = val\n",
    "for i, s in enumerate(x):\n",
    "    x[i] = model.spellingCorrection(s, corrected_dict, verbose=False)"
   ]
  },
  {
   "cell_type": "code",
   "execution_count": 50,
   "metadata": {},
   "outputs": [
    {
     "name": "stdout",
     "output_type": "stream",
     "text": [
      "Vocabulary size:  10141\n"
     ]
    }
   ],
   "source": [
    "# Print some info about our vocabulary\n",
    "model.preprocess(x)\n",
    "x_vocab  = list(model.tokenizer.word_index.keys())\n",
    "print('Vocabulary size: ', len(x_vocab))"
   ]
  },
  {
   "cell_type": "code",
   "execution_count": 19,
   "metadata": {},
   "outputs": [
    {
     "name": "stdout",
     "output_type": "stream",
     "text": [
      "---------- Embedding Created ----------\n",
      "Number of words in corpus that do not appear in pretrained Fasttext:  2243\n"
     ]
    }
   ],
   "source": [
    "# Loading and using pretrained embedding\n",
    "\n",
    "# Using fasttext\n",
    "#path2embedding = '../word_embeddings/wiki.fr.vec'\n",
    "# using fasttext trained on wiki_fr and emea database\n",
    "path2embedding = '../word_embeddings/retrained_fr.vec'\n",
    "pre_trained_wv = gensim.models.KeyedVectors.load_word2vec_format(path2embedding,\n",
    "                                                                 binary=False)\n",
    "\n",
    "# We use an embedding size of len(x_vocab) + 1 because the 0 is used for the padding\n",
    "embeddings = np.zeros((len(x_vocab) + 1 , PRE_TRAINED_DIM))\n",
    "not_in_pretrained = []\n",
    "\n",
    "for word, idx in model.tokenizer.word_index.items():\n",
    "    if word not in pre_trained_wv.vocab:\n",
    "        vec = np.zeros(PRE_TRAINED_DIM)\n",
    "        not_in_pretrained.append(word)\n",
    "    else:\n",
    "        vec = pre_trained_wv[word]\n",
    "\n",
    "    # word_to_index is 1-based! the 0-th row, used for padding, stays at zero\n",
    "    embeddings[idx,] = vec\n",
    "\n",
    "print('---------- Embedding Created ----------')\n",
    "print('Number of words in corpus that do not appear in '\n",
    "      'pretrained Fasttext: ', len(not_in_pretrained))"
   ]
  },
  {
   "cell_type": "code",
   "execution_count": 51,
   "metadata": {},
   "outputs": [],
   "source": [
    "# saving the embedding for convenience\n",
    "#np.save('challenge_data/fasttext_voc_not_corrected.npy', embeddings)\n",
    "#np.save('challenge_data/fasttext_emb.npy', embeddings)\n",
    "np.save('challenge_data/fasttext_retrained.npy', embeddings)\n",
    "#embeddings = np.load('challenge_data/fasttext_emb.npy')\n",
    "#embeddings = np.load('challenge_data/fasttext_voc_not_corrected.npy')\n",
    "embeddings = np.load('challenge_data/fasttext_retrained.npy')"
   ]
  },
  {
   "cell_type": "code",
   "execution_count": 53,
   "metadata": {},
   "outputs": [
    {
     "name": "stdout",
     "output_type": "stream",
     "text": [
      "_________________________________________________________________\n",
      "Layer (type)                 Output Shape              Param #   \n",
      "=================================================================\n",
      "input (InputLayer)           (None, 150)               0         \n",
      "_________________________________________________________________\n",
      "embedding (Embedding)        (None, 150, 300)          3042600   \n",
      "_________________________________________________________________\n",
      "drop0 (Dropout)              (None, 150, 300)          0         \n",
      "_________________________________________________________________\n",
      "conv1 (Conv1D)               (None, 150, 256)          230656    \n",
      "_________________________________________________________________\n",
      "pool1 (MaxPooling1D)         (None, 75, 256)           0         \n",
      "_________________________________________________________________\n",
      "drop1 (Dropout)              (None, 75, 256)           0         \n",
      "_________________________________________________________________\n",
      "lstm1 (LSTM)                 (None, 100)               142800    \n",
      "_________________________________________________________________\n",
      "dense1 (Dense)               (None, 52)                5252      \n",
      "=================================================================\n",
      "Total params: 3,421,308\n",
      "Trainable params: 378,708\n",
      "Non-trainable params: 3,042,600\n",
      "_________________________________________________________________\n",
      "Total number of model parameters: 3421308\n"
     ]
    }
   ],
   "source": [
    "# Model parameters among (drop_rate=0.3, nb_filters=32, filter_size=3)\n",
    "DROP_RATE = 0.3\n",
    "NB_FILTERS = 256\n",
    "FILTER_SIZE = 3\n",
    "#FILTERS_SIZES = []\n",
    "# Build our model\n",
    "model.buildLSTM_CNN(embeddings, drop_rate=DROP_RATE, nb_filters=NB_FILTERS,\n",
    "                    filter_size=FILTER_SIZE)\n",
    "model.model.summary()\n",
    "\n",
    "print('Total number of model parameters:', model.model.count_params())"
   ]
  },
  {
   "cell_type": "code",
   "execution_count": 54,
   "metadata": {},
   "outputs": [],
   "source": [
    "# Preprocess input data and labels before training\n",
    "y = model.preprocessLabels(y)\n",
    "xTrain, xTest, yTrain, yTest = train_test_split(x, y, test_size=0.2, random_state=42)\n",
    "\n",
    "xTrain = model.preprocess(xTrain)\n",
    "xTest = model.preprocess(xTest)"
   ]
  },
  {
   "cell_type": "code",
   "execution_count": 55,
   "metadata": {},
   "outputs": [
    {
     "name": "stdout",
     "output_type": "stream",
     "text": [
      "Train on 6422 samples, validate on 1606 samples\n",
      "Epoch 1/10\n",
      "6422/6422 [==============================] - 41s 6ms/step - loss: 3.1928 - acc: 0.2301 - val_loss: 2.9828 - val_acc: 0.2771\n",
      "Epoch 2/10\n",
      "6422/6422 [==============================] - 24s 4ms/step - loss: 2.9359 - acc: 0.2778 - val_loss: 2.8483 - val_acc: 0.3107\n",
      "Epoch 3/10\n",
      "6422/6422 [==============================] - 26s 4ms/step - loss: 2.7437 - acc: 0.3197 - val_loss: 2.7539 - val_acc: 0.3163\n",
      "Epoch 4/10\n",
      "6422/6422 [==============================] - 28s 4ms/step - loss: 2.5780 - acc: 0.3539 - val_loss: 2.6977 - val_acc: 0.3294\n",
      "Epoch 5/10\n",
      "6422/6422 [==============================] - 28s 4ms/step - loss: 2.4261 - acc: 0.3832 - val_loss: 2.6657 - val_acc: 0.3344\n",
      "Epoch 6/10\n",
      "6422/6422 [==============================] - 30s 5ms/step - loss: 2.2642 - acc: 0.4223 - val_loss: 2.6866 - val_acc: 0.3319\n",
      "Epoch 7/10\n",
      "6422/6422 [==============================] - 30s 5ms/step - loss: 2.1172 - acc: 0.4604 - val_loss: 2.7865 - val_acc: 0.2970\n",
      "Epoch 8/10\n",
      "6422/6422 [==============================] - 31s 5ms/step - loss: 2.0422 - acc: 0.4723 - val_loss: 2.8604 - val_acc: 0.2808\n",
      "Epoch 9/10\n",
      "6422/6422 [==============================] - 30s 5ms/step - loss: 1.9527 - acc: 0.4908 - val_loss: 2.7028 - val_acc: 0.3412\n",
      "Epoch 10/10\n",
      "6422/6422 [==============================] - 31s 5ms/step - loss: 1.8708 - acc: 0.5087 - val_loss: 2.7830 - val_acc: 0.3306\n"
     ]
    }
   ],
   "source": [
    "# Training\n",
    "BATCH_SIZE = 32\n",
    "EPOCHS = 10\n",
    "\n",
    "model.train(xTrain, yTrain, epochs=EPOCHS, batch_size= BATCH_SIZE,\n",
    "            validation_data=(xTest, yTest))"
   ]
  },
  {
   "cell_type": "markdown",
   "metadata": {},
   "source": [
    "## Model Evaluation"
   ]
  },
  {
   "cell_type": "code",
   "execution_count": 105,
   "metadata": {},
   "outputs": [
    {
     "name": "stdout",
     "output_type": "stream",
     "text": [
      "1606/1606 [==============================] - 2s 1ms/step\n",
      "Accuracy: 33.06 %\n",
      "Loss: [2.6934158825785257, 0.33063511830635117]\n"
     ]
    }
   ],
   "source": [
    "loss = model.evaluate(xTest, yTest)\n",
    "\n",
    "prediction = model.predict(xTest)\n",
    "predictionCategories = np.argmax(prediction, axis=1)\n",
    "yTestCategories = np.argmax(yTest, axis=1)\n",
    "accuracy = 100 * sum([predictionCategories[i] == yTestCategories[i]\n",
    "                      for i in range(len(yTestCategories))]) / len(yTestCategories)\n",
    "\n",
    "print('Accuracy: {:.2f} %\\nLoss: {}'.format(accuracy, str(loss)))"
   ]
  },
  {
   "cell_type": "code",
   "execution_count": 110,
   "metadata": {},
   "outputs": [
    {
     "data": {
      "image/png": "[encoded data removed]",
      "text/plain": [
       "<matplotlib.figure.Figure at 0x7fad66937e48>"
      ]
     },
     "metadata": {},
     "output_type": "display_data"
    }
   ],
   "source": [
    "plt.figure(figsize=(15, 5))\n",
    "\n",
    "plt.hist(y, bins=NB_CATEGORIES, label='train labels', density=True, alpha=1)\n",
    "plt.hist(predictionCategories, bins=NB_CATEGORIES,\n",
    "         label='predicted labels', density=True, alpha=0.6)\n",
    "plt.axis\n",
    "plt.legend()\n",
    "plt.show()"
   ]
  },
  {
   "cell_type": "code",
   "execution_count": 20,
   "metadata": {},
   "outputs": [
    {
     "data": {
      "text/plain": [
       "array([37, 44, 44, ..., 48, 45, 44])"
      ]
     },
     "execution_count": 20,
     "metadata": {},
     "output_type": "execute_result"
    }
   ],
   "source": [
    "yTestCategories"
   ]
  }
 ],
 "metadata": {
  "kernelspec": {
   "display_name": "Python 3",
   "language": "python",
   "name": "python3"
  },
  "language_info": {
   "codemirror_mode": {
    "name": "ipython",
    "version": 3
   },
   "file_extension": ".py",
   "mimetype": "text/x-python",
   "name": "python",
   "nbconvert_exporter": "python",
   "pygments_lexer": "ipython3",
   "version": "3.5.2"
  }
 },
 "nbformat": 4,
 "nbformat_minor": 2
}
