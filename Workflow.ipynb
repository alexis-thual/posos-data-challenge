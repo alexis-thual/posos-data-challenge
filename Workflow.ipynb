{
 "cells": [
  {
   "cell_type": "markdown",
   "metadata": {},
   "source": [
    "# Workflow Notebook\n",
    "This notebook is intended to present models which are loaded from other files as well as the results they allow us to reach. It goes through the following steps:\n",
    "* Defining Global Variables\n",
    "* Loading Word Embeddings\n",
    "* Loading Data\n",
    "* Preprocessing Data\n",
    "    * Correcting Spelling Mistakes\n",
    "    * Spliting Training and Testing Data\n",
    "    * Tokenizing Data\n",
    "    * Building and Refining Embeddings Array\n",
    "* Model definition\n",
    "* Model training\n",
    "* Model testing and evaluation"
   ]
  },
  {
   "cell_type": "code",
   "execution_count": 1,
   "metadata": {},
   "outputs": [
    {
     "name": "stderr",
     "output_type": "stream",
     "text": [
      "Using TensorFlow backend.\n"
     ]
    }
   ],
   "source": [
    "import csv\n",
    "import gensim\n",
    "import keras\n",
    "import matplotlib.pyplot as plt\n",
    "import numpy as np\n",
    "import os\n",
    "import pandas as pd\n",
    "\n",
    "from gensim.models import Word2Vec\n",
    "from keras.callbacks import ModelCheckpoint\n",
    "from keras.preprocessing import sequence, text\n",
    "from keras.utils.np_utils import to_categorical\n",
    "from sklearn.model_selection import train_test_split\n",
    "from tqdm import tqdm"
   ]
  },
  {
   "cell_type": "markdown",
   "metadata": {},
   "source": [
    "## Define Global Variables"
   ]
  },
  {
   "cell_type": "code",
   "execution_count": 2,
   "metadata": {},
   "outputs": [],
   "source": [
    "RANDOM_SEED = 42\n",
    "NB_CATEGORIES = 51\n",
    "\n",
    "PADDING = 100\n",
    "PRE_TRAINED_DIM = 300\n",
    "REDUCED_DIM = 100\n",
    "\n",
    "TRAINABLE = False # Training the embedding can lead to overfitting\n",
    "\n",
    "dataDirPath = './challenge_data'\n",
    "embeddingsDirPath = './../word_embeddings/'\n",
    "xPath = os.path.join(dataDirPath, 'input_train.csv')\n",
    "yPath = os.path.join(dataDirPath, 'output_train.csv')\n",
    "xTestPath = os.path.join(dataDirPath, 'input_test.csv')\n",
    "embeddingPath = os.path.join(embeddingsDirPath, 'wiki.fr.vec')\n",
    "# embeddingPath = os.path.join(embeddingsDirPath, 'retrained_fr.vec')"
   ]
  },
  {
   "cell_type": "markdown",
   "metadata": {},
   "source": [
    "## Loading Word Embeddings\n",
    "Load from fasttext or EMEA."
   ]
  },
  {
   "cell_type": "code",
   "execution_count": 3,
   "metadata": {},
   "outputs": [],
   "source": [
    "pretrainedEmbeddings = gensim.models.KeyedVectors.\\\n",
    "    load_word2vec_format(embeddingPath, binary=False)"
   ]
  },
  {
   "cell_type": "markdown",
   "metadata": {},
   "source": [
    "## Loading Data"
   ]
  },
  {
   "cell_type": "code",
   "execution_count": 4,
   "metadata": {},
   "outputs": [],
   "source": [
    "x = pd.read_csv(xPath, delimiter=';', usecols=[1]).values.ravel()\n",
    "y = pd.read_csv(yPath, delimiter=';', usecols=[1]).values.ravel()"
   ]
  },
  {
   "cell_type": "markdown",
   "metadata": {},
   "source": [
    "## Preprocessing Data"
   ]
  },
  {
   "cell_type": "markdown",
   "metadata": {},
   "source": [
    "### Correcting Spelling Mistakes"
   ]
  },
  {
   "cell_type": "code",
   "execution_count": 5,
   "metadata": {},
   "outputs": [],
   "source": [
    "correctionsDict = {}\n",
    "correctionsPath = os.path.join(dataDirPath, 'corrections.csv')\n",
    "\n",
    "with open(correctionsPath, 'r') as f:\n",
    "    for key, val in csv.reader(f):\n",
    "        correctionsDict[key] = val\n",
    "\n",
    "def spellingCorrection(sentence, correctionsDict={}):\n",
    "    correctedSentence = []\n",
    "\n",
    "    for word in sentence.split():\n",
    "        word = correctionsDict[word] if word in correctionsDict.keys() else word\n",
    "        correctedSentence.append(word)\n",
    "\n",
    "    return ' '.join(correctedSentence)\n",
    "\n",
    "for i, s in enumerate(x):\n",
    "    x[i] = spellingCorrection(s, correctionsDict)"
   ]
  },
  {
   "cell_type": "markdown",
   "metadata": {},
   "source": [
    "### Tokenizing Data"
   ]
  },
  {
   "cell_type": "code",
   "execution_count": 6,
   "metadata": {},
   "outputs": [],
   "source": [
    "tokenizer = text.Tokenizer(\n",
    "    num_words=1e5,\n",
    "    filters=\"!\\\"#$%&()*+,-./:;<=>?@[\\\\]^_`{|}~\\t\\n'´’™©®«»\",\n",
    "    split=\" \"\n",
    ")\n",
    "\n",
    "tokenizer.fit_on_texts(x)\n",
    "vocabulary = tokenizer.word_index.keys()"
   ]
  },
  {
   "cell_type": "code",
   "execution_count": 7,
   "metadata": {},
   "outputs": [
    {
     "name": "stdout",
     "output_type": "stream",
     "text": [
      "Vocabulary size:  9341\n"
     ]
    }
   ],
   "source": [
    "print('Vocabulary size: ', len(vocabulary))"
   ]
  },
  {
   "cell_type": "markdown",
   "metadata": {},
   "source": [
    "### Parsing Inputs And Outputs"
   ]
  },
  {
   "cell_type": "code",
   "execution_count": 8,
   "metadata": {},
   "outputs": [],
   "source": [
    "x = tokenizer.texts_to_sequences(x)\n",
    "x = sequence.pad_sequences(x, PADDING)"
   ]
  },
  {
   "cell_type": "code",
   "execution_count": 9,
   "metadata": {},
   "outputs": [],
   "source": [
    "y = to_categorical(y, num_classes=NB_CATEGORIES)"
   ]
  },
  {
   "cell_type": "markdown",
   "metadata": {},
   "source": [
    "### Spliting Training And Testing Data"
   ]
  },
  {
   "cell_type": "code",
   "execution_count": 10,
   "metadata": {},
   "outputs": [],
   "source": [
    "xTrain, xTest, yTrain, yTest = train_test_split(x, y, test_size=.2, random_state=RANDOM_SEED)"
   ]
  },
  {
   "cell_type": "markdown",
   "metadata": {},
   "source": [
    "### Building And Refining Embedding Array"
   ]
  },
  {
   "cell_type": "markdown",
   "metadata": {},
   "source": [
    "#### Loading Medic Names"
   ]
  },
  {
   "cell_type": "code",
   "execution_count": 11,
   "metadata": {},
   "outputs": [
    {
     "name": "stdout",
     "output_type": "stream",
     "text": [
      "Liste de médicaments regroupant les libéllés ATC et lesdénominations de spécialité, de taille: 8390\n",
      "Sample of medicament names:  ['a 313 200  pour cent', 'a 313 50 000 u.i', 'abacavir', 'abacavir/lamivudine', 'abacavir/lamivudine pharma', 'abacavir/lamivudine pharos', 'abamipharm', 'abboticine', 'abelcet', 'abstral']\n"
     ]
    }
   ],
   "source": [
    "MEDICAMENTS = []\n",
    "\n",
    "with open(os.path.join(dataDirPath, 'medicList.txt')) as f:\n",
    "    for line in f:\n",
    "        MEDICAMENTS.append(line.lower().rstrip())\n",
    "\n",
    "print('Liste de médicaments regroupant les libéllés ATC et les'\n",
    "      'dénominations de spécialité, de taille: {}'.format(len(MEDICAMENTS)))\n",
    "print('Sample of medicament names: ', MEDICAMENTS[:10])"
   ]
  },
  {
   "cell_type": "markdown",
   "metadata": {},
   "source": [
    "#### Building Embeddings"
   ]
  },
  {
   "cell_type": "code",
   "execution_count": 12,
   "metadata": {},
   "outputs": [],
   "source": [
    "from unidecode import unidecode"
   ]
  },
  {
   "cell_type": "code",
   "execution_count": 13,
   "metadata": {},
   "outputs": [],
   "source": [
    "# We use an embedding size of len(x_vocab) + 1 because the 0 is used for the padding\n",
    "embeddings = np.zeros((len(vocabulary) + 1 , PRE_TRAINED_DIM))\n",
    "not_in_pretrained = []\n",
    "detected_medic = []\n",
    "\n",
    "for word, idx in tokenizer.word_index.items():\n",
    "    if word not in pretrainedEmbeddings.vocab:\n",
    "        unaccented = unidecode(word)\n",
    "        if word in MEDICAMENTS:\n",
    "            vec = pretrainedEmbeddings['médicament']\n",
    "            detected_medic.append(word)\n",
    "        else:\n",
    "            vec = np.zeros(PRE_TRAINED_DIM)\n",
    "            not_in_pretrained.append(word)\n",
    "    else:\n",
    "        vec = pretrainedEmbeddings[word]\n",
    "\n",
    "    # word_to_index is 1-based! the 0-th row, used for padding, stays at zero\n",
    "    embeddings[idx,] = vec"
   ]
  },
  {
   "cell_type": "code",
   "execution_count": 14,
   "metadata": {},
   "outputs": [
    {
     "name": "stdout",
     "output_type": "stream",
     "text": [
      "---------- Embedding Created ----------\n",
      "Number of words in corpus that do not appear in pretrained Fasttext:  1340\n"
     ]
    }
   ],
   "source": [
    "print('---------- Embedding Created ----------')\n",
    "print('Number of words in corpus that do not appear in '\n",
    "      'pretrained Fasttext: ', len(not_in_pretrained))"
   ]
  },
  {
   "cell_type": "markdown",
   "metadata": {},
   "source": [
    "#### Reducing Embeddings Dimension"
   ]
  },
  {
   "cell_type": "code",
   "execution_count": 35,
   "metadata": {},
   "outputs": [],
   "source": [
    "from sklearn.decomposition import PCA\n",
    "pca = PCA(n_components=REDUCED_DIM)\n",
    "embeddings = pca.fit_transform(embeddings)"
   ]
  },
  {
   "cell_type": "markdown",
   "metadata": {},
   "source": [
    "## Model Definition"
   ]
  },
  {
   "cell_type": "markdown",
   "metadata": {},
   "source": [
    "### Generic Methods"
   ]
  },
  {
   "cell_type": "code",
   "execution_count": 51,
   "metadata": {},
   "outputs": [],
   "source": [
    "class CustomModel():\n",
    "    '''Generic workflow class.'''\n",
    "\n",
    "    def __init__(self, **kwargs):\n",
    "        self.verbose = kwargs.get('verbose', False)\n",
    "\n",
    "        self.nbCategories = kwargs['nbCategories']\n",
    "        self.paddingLength = PADDING\n",
    "        self.trainable = kwargs.get('trainable', False)\n",
    "\n",
    "    def train(self, x, y, epochs= 10, batch_size=32, validation_data=None, callback=False):\n",
    "        if callback == True:\n",
    "            filepath= 'models_checkpoints/weights-improvement-{epoch:02d}-{val_acc:.2f}.hdf5'\n",
    "            checkpoint = ModelCheckpoint(filepath, monitor='val_acc',\n",
    "                                         verbose=1, save_best_only=True, mode='max')\n",
    "            callbacks_list = [checkpoint]\n",
    "\n",
    "            return self.model.fit(x, y, shuffle='batch', epochs=epochs, verbose=2,\n",
    "                                  batch_size=batch_size, validation_data=validation_data,\n",
    "                                  callbacks=callbacks_list)\n",
    "        else:\n",
    "            return self.model.fit(x, y, shuffle='batch', epochs=epochs, verbose=2,\n",
    "                                  batch_size=batch_size, validation_data=validation_data)\n",
    "\n",
    "    def evaluate(self, x, y):\n",
    "        return self.model.evaluate(x, y)\n",
    "\n",
    "    def predict(self, x):\n",
    "        return self.model.predict(x)"
   ]
  },
  {
   "cell_type": "markdown",
   "metadata": {},
   "source": [
    "### Mathematical Model\n",
    "Here, we implement several models (CNN, RNN, etc) with different shapes."
   ]
  },
  {
   "cell_type": "code",
   "execution_count": 52,
   "metadata": {},
   "outputs": [],
   "source": [
    "from keras.layers.embeddings import Embedding\n",
    "from keras.models import Model\n",
    "from keras import Input\n",
    "from keras.layers import Input, Conv1D, Dense, Dropout, GlobalMaxPooling1D\n",
    "\n",
    "class CustomModel(CustomModel):\n",
    "    '''Extended CustomModel'''\n",
    "\n",
    "    def buildCNN1D(self, embedding, drop_rate=0.3, nb_filters=128,\n",
    "                   filter_size=4, padding=PADDING):\n",
    "        self.embedding = embedding\n",
    "\n",
    "        my_input = keras.Input(shape=(self.paddingLength,), name= 'input')\n",
    "\n",
    "        embedding = (Embedding(input_dim=self.embedding.shape[0],\n",
    "                               output_dim=self.embedding.shape[1],\n",
    "                               weights=[self.embedding],\n",
    "                               input_length=self.paddingLength,\n",
    "                               trainable=self.trainable,\n",
    "                               name='embedding'))(my_input)\n",
    "        embedding_dropped = Dropout(drop_rate, name='drop0')(embedding)\n",
    "\n",
    "        conv1 = Conv1D(nb_filters, filter_size,\n",
    "                       activation='relu', name='conv1')(embedding_dropped)\n",
    "        pooled1 = GlobalMaxPooling1D(name='pool1')(conv2)\n",
    "        dropped1 = Dropout(drop_rate, name='drop1')(pooled1)\n",
    "        \n",
    "        prob = Dense(self.nbCategories, activation='softmax', name='softmax')(dropped1)\n",
    "        \n",
    "        self.model = Model(my_input, prob)\n",
    "\n",
    "        self.model.compile(\n",
    "            loss='categorical_crossentropy',\n",
    "            optimizer='adam',\n",
    "            metrics=['accuracy']\n",
    "        )"
   ]
  },
  {
   "cell_type": "code",
   "execution_count": 53,
   "metadata": {},
   "outputs": [],
   "source": [
    "from keras.layers.embeddings import Embedding\n",
    "from keras.models import Model\n",
    "from keras import Input\n",
    "from keras.layers import (Input, Conv2D, Dense, Dropout,\n",
    "                          MaxPooling2D, Flatten, Concatenate, Reshape)\n",
    "\n",
    "\n",
    "class CustomModel(CustomModel):\n",
    "    '''Extended CustomModel'''\n",
    "\n",
    "    def buildCNN2D(self, embedding, drop_rate=0.3, nb_filters=128, filter_size=[5,4,3],\n",
    "                   padding=PADDING):\n",
    "        self.embedding = embedding\n",
    "\n",
    "        my_input = Input(shape=(self.paddingLength, ), name= 'input')\n",
    "\n",
    "        embedding = Embedding(input_dim=self.embedding.shape[0],\n",
    "                               output_dim=self.embedding.shape[1],\n",
    "                               weights=[self.embedding],\n",
    "                               input_length=self.paddingLength,\n",
    "                               trainable=self.trainable,\n",
    "                               name='embedding')(my_input)\n",
    "        embedding = Reshape((padding, self.embedding.shape[1], 1))(embedding)\n",
    "        embedding_dropped = Dropout(drop_rate, name='drop0')(embedding)\n",
    "        \n",
    "        # one concatenates 3 filter sizes\n",
    "        conv0 = Conv2D(nb_filters, (filter_size[2], self.embedding.shape[1]),\n",
    "                       activation='relu', name='conv0', padding='valid')(embedding_dropped)\n",
    "        pooled0 = MaxPooling2D(pool_size=(padding - filter_size[0] + 1, 1),\n",
    "                               strides=(1, 1), padding='valid', name='pool0')(conv0)\n",
    "        \n",
    "        conv1 = Conv2D(nb_filters, (filter_size[1], self.embedding.shape[1]),\n",
    "                       activation='relu', name='conv1', padding='valid')(embedding_dropped)\n",
    "        pooled1 = MaxPooling2D(pool_size = (padding - filter_size[1] + 1, 1),\n",
    "                               strides=(1, 1), padding='valid', name='pool1')(conv1)\n",
    "        \n",
    "        conv2 = Conv2D(nb_filters, (filter_size[2], self.embedding.shape[1]),\n",
    "                       activation='relu', name='conv2', padding='valid')(embedding_dropped)\n",
    "        pooled2 = MaxPooling2D(pool_size = (padding - filter_size[2] + 1, 1),\n",
    "                               strides=(1, 1), padding='valid', name='pool2')(conv2)\n",
    "        \n",
    "        concatenated = Concatenate(axis=1)([pooled0, pooled1, pooled2])\n",
    "        flattened = keras.layers.Flatten()(concatenated)\n",
    "        dropped1 = Dropout(drop_rate, name='drop1')(flattened)  \n",
    "        prob = Dense(self.nbCategories, activation='softmax', name='dense2')(dropped1)\n",
    "\n",
    "        self.model = Model(my_input, prob)\n",
    "\n",
    "        self.model.compile(\n",
    "            loss='categorical_crossentropy',\n",
    "            optimizer='adam',\n",
    "            metrics=['accuracy']\n",
    "        )"
   ]
  },
  {
   "cell_type": "markdown",
   "metadata": {},
   "source": [
    "## Model training"
   ]
  },
  {
   "cell_type": "code",
   "execution_count": 63,
   "metadata": {},
   "outputs": [],
   "source": [
    "def plotHistory(history):\n",
    "    plt.figure(figsize=(15,8))\n",
    "\n",
    "    plt.subplot(121)\n",
    "    plt.plot(history['acc'], label='Accuracy')\n",
    "    plt.plot(history['val_acc'], label='Validaction Accuracy')\n",
    "    plt.ylabel('Accuracy')\n",
    "    plt.title('Accuracy per Epoch')\n",
    "    plt.legend()\n",
    "\n",
    "    plt.subplot(122)\n",
    "    plt.plot(history['loss'], label='Loss')\n",
    "    plt.plot(history['val_loss'], label='Validaction Loss')\n",
    "    plt.ylabel('Loss')\n",
    "    plt.title('Loss per Epoch')\n",
    "    plt.legend()\n",
    "\n",
    "    plt.show()"
   ]
  },
  {
   "cell_type": "code",
   "execution_count": 54,
   "metadata": {},
   "outputs": [
    {
     "name": "stdout",
     "output_type": "stream",
     "text": [
      "__________________________________________________________________________________________________\n",
      "Layer (type)                    Output Shape         Param #     Connected to                     \n",
      "==================================================================================================\n",
      "input (InputLayer)              (None, 100)          0                                            \n",
      "__________________________________________________________________________________________________\n",
      "embedding (Embedding)           (None, 100, 100)     934200      input[0][0]                      \n",
      "__________________________________________________________________________________________________\n",
      "reshape_10 (Reshape)            (None, 100, 100, 1)  0           embedding[0][0]                  \n",
      "__________________________________________________________________________________________________\n",
      "drop0 (Dropout)                 (None, 100, 100, 1)  0           reshape_10[0][0]                 \n",
      "__________________________________________________________________________________________________\n",
      "conv0 (Conv2D)                  (None, 98, 1, 512)   154112      drop0[0][0]                      \n",
      "__________________________________________________________________________________________________\n",
      "conv1 (Conv2D)                  (None, 97, 1, 512)   205312      drop0[0][0]                      \n",
      "__________________________________________________________________________________________________\n",
      "conv2 (Conv2D)                  (None, 98, 1, 512)   154112      drop0[0][0]                      \n",
      "__________________________________________________________________________________________________\n",
      "pool0 (MaxPooling2D)            (None, 3, 1, 512)    0           conv0[0][0]                      \n",
      "__________________________________________________________________________________________________\n",
      "pool1 (MaxPooling2D)            (None, 1, 1, 512)    0           conv1[0][0]                      \n",
      "__________________________________________________________________________________________________\n",
      "pool2 (MaxPooling2D)            (None, 1, 1, 512)    0           conv2[0][0]                      \n",
      "__________________________________________________________________________________________________\n",
      "concatenate_9 (Concatenate)     (None, 5, 1, 512)    0           pool0[0][0]                      \n",
      "                                                                 pool1[0][0]                      \n",
      "                                                                 pool2[0][0]                      \n",
      "__________________________________________________________________________________________________\n",
      "flatten_9 (Flatten)             (None, 2560)         0           concatenate_9[0][0]              \n",
      "__________________________________________________________________________________________________\n",
      "drop1 (Dropout)                 (None, 2560)         0           flatten_9[0][0]                  \n",
      "__________________________________________________________________________________________________\n",
      "dense2 (Dense)                  (None, 51)           130611      drop1[0][0]                      \n",
      "==================================================================================================\n",
      "Total params: 1,578,347\n",
      "Trainable params: 644,147\n",
      "Non-trainable params: 934,200\n",
      "__________________________________________________________________________________________________\n",
      "Total number of model parameters: 1578347\n"
     ]
    }
   ],
   "source": [
    "DROP_RATE = 0.3\n",
    "NB_FILTERS = 512\n",
    "FILTER_SIZE = 3\n",
    "\n",
    "model = CustomModel(verbose=False, nbCategories=NB_CATEGORIES, trainable=TRAINABLE)\n",
    "# model.buildCNN1D(embeddings, drop_rate=DROP_RATE, nb_filters=NB_FILTERS,\n",
    "#                  filter_size=FILTER_SIZE)\n",
    "model.buildCNN2D(embeddings, drop_rate=DROP_RATE, nb_filters=NB_FILTERS)\n",
    "model.model.summary()\n",
    "\n",
    "print('Total number of model parameters:', model.model.count_params())"
   ]
  },
  {
   "cell_type": "code",
   "execution_count": 64,
   "metadata": {},
   "outputs": [
    {
     "name": "stdout",
     "output_type": "stream",
     "text": [
      "Train on 6422 samples, validate on 1606 samples\n",
      "Epoch 1/15\n",
      " - 15s - loss: 0.2858 - acc: 0.9158 - val_loss: 1.4165 - val_acc: 0.6812\n",
      "Epoch 2/15\n",
      " - 17s - loss: 0.2722 - acc: 0.9203 - val_loss: 1.4258 - val_acc: 0.6800\n",
      "Epoch 3/15\n",
      " - 18s - loss: 0.2624 - acc: 0.9254 - val_loss: 1.4129 - val_acc: 0.6905\n",
      "Epoch 4/15\n",
      " - 18s - loss: 0.2458 - acc: 0.9321 - val_loss: 1.4302 - val_acc: 0.6843\n",
      "Epoch 5/15\n",
      " - 18s - loss: 0.2406 - acc: 0.9321 - val_loss: 1.4887 - val_acc: 0.6793\n",
      "Epoch 6/15\n",
      " - 18s - loss: 0.2353 - acc: 0.9329 - val_loss: 1.5648 - val_acc: 0.6650\n",
      "Epoch 7/15\n",
      " - 18s - loss: 0.2290 - acc: 0.9330 - val_loss: 1.5366 - val_acc: 0.6775\n",
      "Epoch 8/15\n",
      " - 18s - loss: 0.2300 - acc: 0.9344 - val_loss: 1.5790 - val_acc: 0.6737\n",
      "Epoch 9/15\n",
      " - 18s - loss: 0.2081 - acc: 0.9371 - val_loss: 1.5860 - val_acc: 0.6762\n",
      "Epoch 10/15\n",
      " - 18s - loss: 0.2212 - acc: 0.9340 - val_loss: 1.6428 - val_acc: 0.6831\n",
      "Epoch 11/15\n",
      " - 17s - loss: 0.2082 - acc: 0.9400 - val_loss: 1.6539 - val_acc: 0.6725\n",
      "Epoch 12/15\n",
      " - 17s - loss: 0.2044 - acc: 0.9449 - val_loss: 1.6870 - val_acc: 0.6831\n",
      "Epoch 13/15\n",
      " - 18s - loss: 0.1949 - acc: 0.9453 - val_loss: 1.6013 - val_acc: 0.6849\n",
      "Epoch 14/15\n",
      " - 17s - loss: 0.1759 - acc: 0.9542 - val_loss: 1.6435 - val_acc: 0.6874\n",
      "Epoch 15/15\n",
      " - 17s - loss: 0.1972 - acc: 0.9447 - val_loss: 1.6633 - val_acc: 0.6781\n"
     ]
    },
    {
     "data": {
      "image/png": "[encoded data removed]",
      "text/plain": [
       "<matplotlib.figure.Figure at 0x7f67cf8ee668>"
      ]
     },
     "metadata": {},
     "output_type": "display_data"
    }
   ],
   "source": [
    "BATCH_SIZE = 32\n",
    "EPOCHS = 15\n",
    "\n",
    "trainingHistory = model.train(xTrain, yTrain, epochs=EPOCHS, batch_size=BATCH_SIZE,\n",
    "                              validation_data=(xTest, yTest))\n",
    "plotHistory(trainingHistory.history)"
   ]
  },
  {
   "cell_type": "markdown",
   "metadata": {},
   "source": [
    "## Model Evaluation"
   ]
  },
  {
   "cell_type": "markdown",
   "metadata": {},
   "source": [
    "### Predict"
   ]
  },
  {
   "cell_type": "code",
   "execution_count": 65,
   "metadata": {},
   "outputs": [
    {
     "name": "stdout",
     "output_type": "stream",
     "text": [
      "1606/1606 [==============================] - 1s 816us/step\n",
      "Accuracy: 67.81 %\n",
      "Loss: [1.6632738576582626, 0.6780821918550494]\n"
     ]
    }
   ],
   "source": [
    "loss = model.evaluate(xTest, yTest)\n",
    "\n",
    "prediction = model.predict(xTest)\n",
    "predictionCategories = np.argmax(prediction, axis=1)\n",
    "yTestCategories = np.argmax(yTest, axis=1)\n",
    "accuracy = 100 * sum([predictionCategories[i] == yTestCategories[i]\n",
    "                      for i in range(len(yTestCategories))]) / len(yTestCategories)\n",
    "\n",
    "print('Accuracy: {:.2f} %\\nLoss: {}'.format(accuracy, str(loss)))"
   ]
  },
  {
   "cell_type": "markdown",
   "metadata": {},
   "source": [
    "### Plot Accuracy Per Category"
   ]
  },
  {
   "cell_type": "code",
   "execution_count": 66,
   "metadata": {},
   "outputs": [],
   "source": [
    "import collections"
   ]
  },
  {
   "cell_type": "code",
   "execution_count": 67,
   "metadata": {},
   "outputs": [],
   "source": [
    "yPosition = np.arange(2*NB_CATEGORIES)\n",
    "\n",
    "c = collections.Counter(yTestCategories)\n",
    "od = collections.OrderedDict(sorted(c.items(), key=lambda x: x[0]))\n",
    "cp = collections.Counter(predictionCategories)\n",
    "odp = collections.OrderedDict(sorted(cp.items(), key=lambda x: x[0]))\n",
    "\n",
    "correctResults = predictionCategories[predictionCategories == yTestCategories]\n",
    "cc = collections.Counter(correctResults)\n",
    "odc = collections.OrderedDict(sorted(cc.items(), key=lambda x: x[0]))"
   ]
  },
  {
   "cell_type": "code",
   "execution_count": 68,
   "metadata": {},
   "outputs": [],
   "source": [
    "pod = np.zeros(2*NB_CATEGORIES)\n",
    "for key in od:\n",
    "    pod[2*key] = od[key]\n",
    "\n",
    "podp = np.zeros(2*NB_CATEGORIES)\n",
    "for key in odp:\n",
    "    podp[2*key+1] = odp[key]\n",
    "\n",
    "podc = np.zeros(2*NB_CATEGORIES)\n",
    "for key in odc:\n",
    "    podc[2*key+1] = odc[key]"
   ]
  },
  {
   "cell_type": "code",
   "execution_count": 69,
   "metadata": {},
   "outputs": [
    {
     "data": {
      "image/png": "[encoded data removed]",
      "text/plain": [
       "<matplotlib.figure.Figure at 0x7f67cf8129e8>"
      ]
     },
     "metadata": {},
     "output_type": "display_data"
    }
   ],
   "source": [
    "plt.figure(figsize=(15,8))\n",
    "plt.yscale('log')\n",
    "\n",
    "plt.bar(yPosition, pod, alpha=0.7, label='Appeared')\n",
    "plt.bar(yPosition, podp, alpha=0.5, label='Predicted')\n",
    "plt.bar(yPosition, podc, alpha=0.5, label='Correctly Predicted')\n",
    "\n",
    "plt.ylabel('Unique count')\n",
    "plt.title('Categories')\n",
    "plt.legend()\n",
    " \n",
    "plt.show()"
   ]
  },
  {
   "cell_type": "markdown",
   "metadata": {},
   "source": [
    "## Export Coefficients\n",
    "Load inputs to be predicted, preprocess them, perform prediction and output results in a `output_test.csv`."
   ]
  },
  {
   "cell_type": "code",
   "execution_count": 70,
   "metadata": {},
   "outputs": [],
   "source": [
    "exportX = pd.read_csv(xTestPath, delimiter=';', usecols=[1]).values.ravel()\n",
    "exportX = tokenizer.texts_to_sequences(exportX)\n",
    "exportX = sequence.pad_sequences(exportX, PADDING)\n",
    "\n",
    "exportY = model.predict(exportX)\n",
    "exportY = np.argmax(exportY, axis=1)"
   ]
  },
  {
   "cell_type": "code",
   "execution_count": 72,
   "metadata": {},
   "outputs": [],
   "source": [
    "with open(os.path.join(dataDirPath, 'output_test.csv'), 'w+') as f:\n",
    "    f.write('ID;intention\\n')\n",
    "\n",
    "    for i, p in enumerate(exportY):\n",
    "        f.write('{};{}\\n'.format(str(i), str(p)))"
   ]
  },
  {
   "cell_type": "code",
   "execution_count": 73,
   "metadata": {},
   "outputs": [
    {
     "data": {
      "text/plain": [
       "array([31, 32, 32, ..., 28, 12, 34])"
      ]
     },
     "execution_count": 73,
     "metadata": {},
     "output_type": "execute_result"
    }
   ],
   "source": [
    "exportY"
   ]
  }
 ],
 "metadata": {
  "kernelspec": {
   "display_name": "Python 3",
   "language": "python",
   "name": "python3"
  },
  "language_info": {
   "codemirror_mode": {
    "name": "ipython",
    "version": 3
   },
   "file_extension": ".py",
   "mimetype": "text/x-python",
   "name": "python",
   "nbconvert_exporter": "python",
   "pygments_lexer": "ipython3",
   "version": "3.5.2"
  }
 },
 "nbformat": 4,
 "nbformat_minor": 2
}
