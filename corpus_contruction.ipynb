{
 "cells": [
  {
   "cell_type": "markdown",
   "metadata": {},
   "source": [
    "# Creating training corpus of french pharmacology texts"
   ]
  },
  {
   "cell_type": "markdown",
   "metadata": {},
   "source": [
    "We try to obtain the more relevant corpus of text for the training of Fasttext embedding"
   ]
  },
  {
   "cell_type": "code",
   "execution_count": 1,
   "metadata": {},
   "outputs": [],
   "source": [
    "import numpy as np \n",
    "import os \n",
    "import pandas as pd\n",
    "import re"
   ]
  },
  {
   "cell_type": "code",
   "execution_count": 2,
   "metadata": {},
   "outputs": [],
   "source": [
    "path2extern_data ='../external_data/'\n",
    "\n",
    "path2EMEAcorpus= path2extern_data + 'EMEA.es-fr.fr'\n",
    "medicament_list_path = path2extern_data + 'medicaments_france.xls'"
   ]
  },
  {
   "cell_type": "markdown",
   "metadata": {},
   "source": [
    "## EMEA french corpus"
   ]
  },
  {
   "cell_type": "code",
   "execution_count": 3,
   "metadata": {},
   "outputs": [],
   "source": [
    "with open(path2EMEAcorpus) as f:\n",
    "        emea_fr = f.read().splitlines()\n",
    "# removing main title\n",
    "emea_fr = emea_fr[3:]"
   ]
  },
  {
   "cell_type": "code",
   "execution_count": 4,
   "metadata": {},
   "outputs": [
    {
     "data": {
      "text/plain": [
       "['ABILIFY',\n",
       " 'Résumé EPAR à l’ intention du public',\n",
       " 'Ce document est un résumé du rapport européen public d’ évaluation (EPAR).',\n",
       " 'Il explique comment le comité des médicaments à usage humain (CHMP) a évalué les études réalisées afin d’ aboutir à ses recommandations relatives aux conditions d’ utilisation du médicament.',\n",
       " 'Pour plus d’ informations sur votre état ou votre traitement, veuillez consulter la notice (également comprise dans l’ EPAR) ou contacter votre médecin ou votre pharmacien.',\n",
       " 'Si vous souhaitez davantage d’ informations sur la base des recommandations du CHMP, veuillez lire la discussion scientifique (également comprise dans l’ EPAR).',\n",
       " \"Qu’ est -ce qu'Abilify?\",\n",
       " 'Abilify est un médicament qui contient le principe actif aripiprazole.',\n",
       " 'Il est disponible sous la forme de comprimés de 5 mg, 10 mg, 15 mg et 30 mg, de comprimés orodispersibles (comprimés qui se dissolvent dans la bouche) de 10 mg, 15 mg et 30 mg, sous la forme d’ une solution buvable (1 mg/ ml) et sous la forme d’ une solution injectable (7,5 mg/ ml).',\n",
       " 'Dans quel cas Abilify est -il utilisé?']"
      ]
     },
     "execution_count": 4,
     "metadata": {},
     "output_type": "execute_result"
    }
   ],
   "source": [
    "emea_fr[:10]"
   ]
  },
  {
   "cell_type": "code",
   "execution_count": 5,
   "metadata": {},
   "outputs": [],
   "source": [
    "emea_train = [e for e in emea_fr if len(e.split()) >=3]"
   ]
  },
  {
   "cell_type": "code",
   "execution_count": 6,
   "metadata": {},
   "outputs": [
    {
     "name": "stdout",
     "output_type": "stream",
     "text": [
      "We discard approximately:  0.23 % of the orginal corpus\n"
     ]
    }
   ],
   "source": [
    "emea_train[:20]\n",
    "print('We discard approximately: ', np.round(1 - len(emea_train)/len(emea_fr), 2), '% of the orginal corpus')"
   ]
  },
  {
   "cell_type": "code",
   "execution_count": 7,
   "metadata": {},
   "outputs": [],
   "source": [
    "# lower the title lines of the corpus that are upper case\n",
    "def lower_titles(s):\n",
    "    s_list = s.split()\n",
    "    # detect upercase titles\n",
    "    up = 0\n",
    "    for w in s_list:\n",
    "        if w.lower()!=w:\n",
    "            up+=1\n",
    "    #print(up)\n",
    "    if up == len(s_list):\n",
    "        return s.lower()\n",
    "    else:\n",
    "        return s"
   ]
  },
  {
   "cell_type": "code",
   "execution_count": 8,
   "metadata": {},
   "outputs": [],
   "source": [
    "emea_train = [lower_titles(s) for s in emea_train]"
   ]
  },
  {
   "cell_type": "code",
   "execution_count": 9,
   "metadata": {},
   "outputs": [
    {
     "data": {
      "text/plain": [
       "['Résumé EPAR à l’ intention du public',\n",
       " 'Ce document est un résumé du rapport européen public d’ évaluation (EPAR).',\n",
       " 'Il explique comment le comité des médicaments à usage humain (CHMP) a évalué les études réalisées afin d’ aboutir à ses recommandations relatives aux conditions d’ utilisation du médicament.',\n",
       " 'Pour plus d’ informations sur votre état ou votre traitement, veuillez consulter la notice (également comprise dans l’ EPAR) ou contacter votre médecin ou votre pharmacien.',\n",
       " 'Si vous souhaitez davantage d’ informations sur la base des recommandations du CHMP, veuillez lire la discussion scientifique (également comprise dans l’ EPAR).']"
      ]
     },
     "execution_count": 9,
     "metadata": {},
     "output_type": "execute_result"
    }
   ],
   "source": [
    "emea_train[:5]"
   ]
  },
  {
   "cell_type": "markdown",
   "metadata": {},
   "source": [
    "## Add the medicaments list"
   ]
  },
  {
   "cell_type": "code",
   "execution_count": 10,
   "metadata": {},
   "outputs": [
    {
     "data": {
      "text/html": [
       "<div>\n",
       "<style>\n",
       "    .dataframe thead tr:only-child th {\n",
       "        text-align: right;\n",
       "    }\n",
       "\n",
       "    .dataframe thead th {\n",
       "        text-align: left;\n",
       "    }\n",
       "\n",
       "    .dataframe tbody tr th {\n",
       "        vertical-align: top;\n",
       "    }\n",
       "</style>\n",
       "<table border=\"1\" class=\"dataframe\">\n",
       "  <thead>\n",
       "    <tr style=\"text-align: right;\">\n",
       "      <th></th>\n",
       "      <th>Titulaire</th>\n",
       "      <th>Code CIS</th>\n",
       "      <th>Dénomination spécialité</th>\n",
       "      <th>Libellé ATC</th>\n",
       "      <th>Code ATC</th>\n",
       "      <th>N° CESP</th>\n",
       "      <th>Date de dépôt</th>\n",
       "      <th>Code pictogramme\n",
       "(1 ou 2 ou 3)</th>\n",
       "    </tr>\n",
       "  </thead>\n",
       "  <tbody>\n",
       "    <tr>\n",
       "      <th>0</th>\n",
       "      <td>3M ESPE AG (ALLEMAGNE)</td>\n",
       "      <td>65319857</td>\n",
       "      <td>UBISTESIN ADRENALINEE au 1/100 000, solution i...</td>\n",
       "      <td>Articaïne en association</td>\n",
       "      <td>N01BB58</td>\n",
       "      <td>NaN</td>\n",
       "      <td>NaN</td>\n",
       "      <td>NaN</td>\n",
       "    </tr>\n",
       "    <tr>\n",
       "      <th>1</th>\n",
       "      <td>3M ESPE AG (ALLEMAGNE)</td>\n",
       "      <td>63852237</td>\n",
       "      <td>UBISTESIN ADRENALINEE au 1/200 000, solution i...</td>\n",
       "      <td>Articaïne en association</td>\n",
       "      <td>N01BB58</td>\n",
       "      <td>NaN</td>\n",
       "      <td>NaN</td>\n",
       "      <td>NaN</td>\n",
       "    </tr>\n",
       "    <tr>\n",
       "      <th>2</th>\n",
       "      <td>ABBVIE</td>\n",
       "      <td>63615206</td>\n",
       "      <td>FORENE, liquide pour inhalation par vapeur</td>\n",
       "      <td>Isoflurane</td>\n",
       "      <td>N01AB06</td>\n",
       "      <td>NaN</td>\n",
       "      <td>NaN</td>\n",
       "      <td>NaN</td>\n",
       "    </tr>\n",
       "    <tr>\n",
       "      <th>3</th>\n",
       "      <td>ABBVIE</td>\n",
       "      <td>66282739</td>\n",
       "      <td>SEVORANE, liquide pour inhalation par vapeur</td>\n",
       "      <td>Sévoflurane</td>\n",
       "      <td>N01AB08</td>\n",
       "      <td>NaN</td>\n",
       "      <td>NaN</td>\n",
       "      <td>NaN</td>\n",
       "    </tr>\n",
       "    <tr>\n",
       "      <th>4</th>\n",
       "      <td>ABBVIE</td>\n",
       "      <td>66840005</td>\n",
       "      <td>CHIROCAÏNE 2,5 mg/ml, solution injectable ou s...</td>\n",
       "      <td>Lévobupivacaïne</td>\n",
       "      <td>N01BB10</td>\n",
       "      <td>NaN</td>\n",
       "      <td>NaN</td>\n",
       "      <td>NaN</td>\n",
       "    </tr>\n",
       "  </tbody>\n",
       "</table>\n",
       "</div>"
      ],
      "text/plain": [
       "                Titulaire  Code CIS  \\\n",
       "0  3M ESPE AG (ALLEMAGNE)  65319857   \n",
       "1  3M ESPE AG (ALLEMAGNE)  63852237   \n",
       "2                  ABBVIE  63615206   \n",
       "3                  ABBVIE  66282739   \n",
       "4                  ABBVIE  66840005   \n",
       "\n",
       "                             Dénomination spécialité  \\\n",
       "0  UBISTESIN ADRENALINEE au 1/100 000, solution i...   \n",
       "1  UBISTESIN ADRENALINEE au 1/200 000, solution i...   \n",
       "2         FORENE, liquide pour inhalation par vapeur   \n",
       "3       SEVORANE, liquide pour inhalation par vapeur   \n",
       "4  CHIROCAÏNE 2,5 mg/ml, solution injectable ou s...   \n",
       "\n",
       "                Libellé ATC Code ATC  N° CESP  Date de dépôt  \\\n",
       "0  Articaïne en association  N01BB58      NaN            NaN   \n",
       "1  Articaïne en association  N01BB58      NaN            NaN   \n",
       "2                Isoflurane  N01AB06      NaN            NaN   \n",
       "3               Sévoflurane  N01AB08      NaN            NaN   \n",
       "4           Lévobupivacaïne  N01BB10      NaN            NaN   \n",
       "\n",
       "   Code pictogramme\\n(1 ou 2 ou 3)  \n",
       "0                              NaN  \n",
       "1                              NaN  \n",
       "2                              NaN  \n",
       "3                              NaN  \n",
       "4                              NaN  "
      ]
     },
     "execution_count": 10,
     "metadata": {},
     "output_type": "execute_result"
    }
   ],
   "source": [
    "medic_db = pd.read_excel(medicament_list_path)\n",
    "medic_db.head()"
   ]
  },
  {
   "cell_type": "code",
   "execution_count": 11,
   "metadata": {},
   "outputs": [],
   "source": [
    "# retrieve and concatenate the two interesting columns : 'Dénomination spécialité' , 'Libellé ATC'\n",
    "medic_train = [(e[2] + ' '+ e[3]).lower() for e in medic_db.values]"
   ]
  },
  {
   "cell_type": "code",
   "execution_count": 12,
   "metadata": {},
   "outputs": [],
   "source": [
    "# replace ',' by '.' in numerical expressions:\n",
    "def replace_coma(s):\n",
    "    reg_num = re.search('\\d+,\\d+', s)\n",
    "    while reg_num != None:\n",
    "        s = re.sub(reg_num.group(0), re.sub(',', '.',reg_num.group(0)), s)\n",
    "        reg_num = re.search('\\d+,\\d+', s) \n",
    "    return s"
   ]
  },
  {
   "cell_type": "code",
   "execution_count": 13,
   "metadata": {},
   "outputs": [
    {
     "data": {
      "text/plain": [
       "['ubistesin adrenalinee au 1/100 000, solution injectable pour usage dentaire articaïne en association',\n",
       " 'ubistesin adrenalinee au 1/200 000, solution injectable pour usage dentaire articaïne en association',\n",
       " 'forene, liquide pour inhalation par vapeur isoflurane',\n",
       " 'sevorane, liquide pour inhalation par vapeur sévoflurane',\n",
       " 'chirocaïne 2.5 mg/ml, solution injectable ou solution à diluer pour perfusion lévobupivacaïne']"
      ]
     },
     "execution_count": 13,
     "metadata": {},
     "output_type": "execute_result"
    }
   ],
   "source": [
    "medic_train = [replace_coma(s) for s in medic_train]\n",
    "medic_train[:5]"
   ]
  },
  {
   "cell_type": "markdown",
   "metadata": {},
   "source": [
    "## Other corpus to add? Add them here! "
   ]
  },
  {
   "cell_type": "code",
   "execution_count": null,
   "metadata": {},
   "outputs": [],
   "source": []
  },
  {
   "cell_type": "markdown",
   "metadata": {},
   "source": [
    "## Write final training corpus"
   ]
  },
  {
   "cell_type": "code",
   "execution_count": 21,
   "metadata": {},
   "outputs": [],
   "source": [
    "path2output = path2extern_data + 'training_fr.txt'\n",
    "with open(path2output, 'w') as out:\n",
    "    for s in emea_train:\n",
    "        out.write(s + '\\n')\n",
    "    for s in medic_train:\n",
    "        out.write(s + '\\n')"
   ]
  },
  {
   "cell_type": "code",
   "execution_count": null,
   "metadata": {},
   "outputs": [],
   "source": []
  },
  {
   "cell_type": "code",
   "execution_count": null,
   "metadata": {},
   "outputs": [],
   "source": []
  }
 ],
 "metadata": {
  "kernelspec": {
   "display_name": "Python 3",
   "language": "python",
   "name": "python3"
  },
  "language_info": {
   "codemirror_mode": {
    "name": "ipython",
    "version": 3
   },
   "file_extension": ".py",
   "mimetype": "text/x-python",
   "name": "python",
   "nbconvert_exporter": "python",
   "pygments_lexer": "ipython3",
   "version": "3.5.2"
  }
 },
 "nbformat": 4,
 "nbformat_minor": 2
}
