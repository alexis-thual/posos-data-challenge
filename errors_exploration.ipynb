{
 "cells": [
  {
   "cell_type": "code",
   "execution_count": 1,
   "metadata": {},
   "outputs": [
    {
     "name": "stderr",
     "output_type": "stream",
     "text": [
      "Using TensorFlow backend.\n"
     ]
    }
   ],
   "source": [
    "import csv\n",
    "import gensim\n",
    "import keras\n",
    "import matplotlib.pyplot as plt\n",
    "#plt.style.use('dark_background')\n",
    "import numpy as np\n",
    "import os\n",
    "import pandas as pd\n",
    "\n",
    "from key_words_extract import selectCat\n",
    "from gensim.models import Word2Vec\n",
    "from keras.callbacks import ModelCheckpoint\n",
    "from keras.preprocessing import sequence, text\n",
    "from keras.utils.np_utils import to_categorical\n",
    "from sklearn.model_selection import train_test_split\n",
    "from tqdm import tqdm"
   ]
  },
  {
   "cell_type": "code",
   "execution_count": null,
   "metadata": {},
   "outputs": [],
   "source": [
    "RANDOM_SEED = 42\n",
    "NB_CATEGORIES = 51\n",
    "CORRECTION = False\n",
    "\n",
    "PADDING = 100\n",
    "PRE_TRAINED_DIM = 300\n",
    "REDUCED_DIM = 100\n",
    "\n",
    "TRAINABLE = True # Training the embedding can lead to overfitting\n",
    "\n",
    "dataDirPath = './challenge_data'\n",
    "embeddingsDirPath = './../word_embeddings/'\n",
    "xPath = os.path.join(dataDirPath, 'input_train.csv')\n",
    "yPath = os.path.join(dataDirPath, 'output_train.csv')\n",
    "xTestPath = os.path.join(dataDirPath, 'input_test.csv')\n",
    "embeddingPath = os.path.join(embeddingsDirPath, 'wiki.fr.vec')\n",
    "#embeddingPath = os.path.join(embeddingsDirPath, 'retrained_fr.vec')\n",
    "# embeddingPath = os.path.join(embeddingsDirPath, 'retrained_questions.vec')"
   ]
  },
  {
   "cell_type": "code",
   "execution_count": null,
   "metadata": {},
   "outputs": [],
   "source": [
    "pretrainedEmbeddings = gensim.models.KeyedVectors.\\\n",
    "    load_word2vec_format(embeddingPath, binary=False)"
   ]
  },
  {
   "cell_type": "code",
   "execution_count": null,
   "metadata": {},
   "outputs": [],
   "source": [
    "x = pd.read_csv(xPath, delimiter=';', usecols=[1]).values.ravel()\n",
    "xTest = pd.read_csv(xTestPath, delimiter=';', usecols=[1]).values.ravel()\n",
    "y = pd.read_csv(yPath, delimiter=';', usecols=[1]).values.ravel()"
   ]
  },
  {
   "cell_type": "code",
   "execution_count": null,
   "metadata": {},
   "outputs": [],
   "source": [
    "correctionsDict = {}\n",
    "correctionsPath = os.path.join(dataDirPath, 'corrections.csv')\n",
    "\n",
    "with open(correctionsPath, 'r') as f:\n",
    "    for key, val in csv.reader(f):\n",
    "        correctionsDict[key] = val\n",
    "\n",
    "def spellingCorrection(sentence, correctionsDict={}, verbose=False):\n",
    "    correctedSentence = []\n",
    "    nb_corrections = 0\n",
    "    for word in sentence.split():\n",
    "        if word in correctionsDict.keys():\n",
    "            word = correctionsDict[word]\n",
    "            nb_corrections += 1\n",
    "        correctedSentence.append(word)\n",
    "    if verbose:\n",
    "        return ' '.join(correctedSentence), nb_corrections\n",
    "    else:\n",
    "        return ' '.join(correctedSentence)\n",
    "\n",
    "nb_corr = 0\n",
    "if CORRECTION:\n",
    "    for i, s in enumerate(x):\n",
    "        cor = spellingCorrection(s, correctionsDict, verbose = True)\n",
    "        x[i] = cor[0]\n",
    "        nb_corr += cor[1]\n",
    "\n",
    "    for i, s in enumerate(xTest):\n",
    "        cor = spellingCorrection(s, correctionsDict, verbose = True)\n",
    "        xTest[i] = cor[0]\n",
    "        nb_corr += cor[1]\n",
    "print(nb_corr)"
   ]
  },
  {
   "cell_type": "code",
   "execution_count": null,
   "metadata": {},
   "outputs": [],
   "source": [
    "tokenizer = text.Tokenizer(\n",
    "    num_words=1e5,\n",
    "    filters=\"!\\\"#$%&()*+,-./:;<=>?@[\\\\]^_`{|}~\\t\\n'´’™©®«»\",\n",
    "    split=\" \"\n",
    ")\n",
    "\n",
    "tokenizer.fit_on_texts(np.concatenate((x, xTest)))\n",
    "vocabulary = tokenizer.word_index.keys()\n",
    "print('Vocabulary size: ', len(vocabulary))"
   ]
  },
  {
   "cell_type": "code",
   "execution_count": null,
   "metadata": {},
   "outputs": [],
   "source": [
    "x = tokenizer.texts_to_sequences(x)\n",
    "x = sequence.pad_sequences(x, PADDING)\n",
    "xTest = tokenizer.texts_to_sequences(xTest)\n",
    "xTest = sequence.pad_sequences(xTest, PADDING)\n",
    "\n",
    "y = to_categorical(y, num_classes=NB_CATEGORIES)"
   ]
  },
  {
   "cell_type": "code",
   "execution_count": null,
   "metadata": {},
   "outputs": [],
   "source": [
    "xTrain, xValid, yTrain, yValid = train_test_split(x, y, test_size=.2,\n",
    "                                                  random_state=RANDOM_SEED)"
   ]
  },
  {
   "cell_type": "code",
   "execution_count": null,
   "metadata": {},
   "outputs": [],
   "source": [
    "MEDICAMENTS = []\n",
    "\n",
    "with open(os.path.join(dataDirPath, 'medicList.txt')) as f:\n",
    "    for line in f:\n",
    "        MEDICAMENTS.append(line.lower().rstrip())\n",
    "\n",
    "print('Liste de médicaments regroupant les libéllés ATC et les'\n",
    "      'dénominations de spécialité, de taille: {}'.format(len(MEDICAMENTS)))\n",
    "print('Sample of medicament names: ', MEDICAMENTS[:10])"
   ]
  },
  {
   "cell_type": "code",
   "execution_count": null,
   "metadata": {},
   "outputs": [],
   "source": [
    "from unidecode import unidecode"
   ]
  },
  {
   "cell_type": "code",
   "execution_count": null,
   "metadata": {},
   "outputs": [],
   "source": [
    "embeddings = np.zeros((len(vocabulary) + 1 , PRE_TRAINED_DIM))\n",
    "not_in_pretrained = []\n",
    "detected_medic = []\n",
    "\n",
    "for word, idx in tokenizer.word_index.items():\n",
    "    if word not in pretrainedEmbeddings.vocab:\n",
    "        unaccented = unidecode(word)\n",
    "        if word in MEDICAMENTS:\n",
    "            vec = pretrainedEmbeddings['médicament']\n",
    "            detected_medic.append(word)\n",
    "        else:\n",
    "            vec = np.zeros(PRE_TRAINED_DIM)\n",
    "            not_in_pretrained.append(word)\n",
    "    else:\n",
    "        vec = pretrainedEmbeddings[word]\n",
    "\n",
    "    # word_to_index is 1-based! the 0-th row, used for padding, stays at zero\n",
    "    embeddings[idx,] = vec"
   ]
  },
  {
   "cell_type": "code",
   "execution_count": null,
   "metadata": {},
   "outputs": [],
   "source": [
    "print('---------- Embedding Created ----------')\n",
    "print('Number of words in corpus that do not appear in '\n",
    "      'pretrained Fasttext: ', len(not_in_pretrained))\n",
    "print('size of the embedding: {}'.format(embeddings.shape))"
   ]
  },
  {
   "cell_type": "code",
   "execution_count": null,
   "metadata": {},
   "outputs": [],
   "source": [
    "from sklearn.decomposition import PCA\n",
    "pca = PCA(n_components=REDUCED_DIM)\n",
    "reducedEmbeddings = pca.fit_transform(embeddings)"
   ]
  },
  {
   "cell_type": "code",
   "execution_count": null,
   "metadata": {},
   "outputs": [],
   "source": [
    "class CustomModel():\n",
    "    '''Generic workflow class.'''\n",
    "\n",
    "    def __init__(self, **kwargs):\n",
    "        self.verbose = kwargs.get('verbose', False)\n",
    "\n",
    "        self.nbCategories = kwargs['nbCategories']\n",
    "        self.paddingLength = PADDING\n",
    "        self.trainable = kwargs.get('trainable', False)\n",
    "\n",
    "    def train(self, x, y, epochs= 10, batch_size=32, validation_data=None, callback=False):\n",
    "        if callback == True:\n",
    "            filepath= '../models_checkpoints/weights-improvement-{epoch:02d}-{val_acc:.2f}.hdf5'\n",
    "            checkpoint = ModelCheckpoint(filepath, monitor='val_acc',\n",
    "                                         verbose=1, save_best_only=True, mode='max')\n",
    "            callbacks_list = [checkpoint]\n",
    "\n",
    "            return self.model.fit(x, y, shuffle='batch', epochs=epochs,\n",
    "                                  verbose=1 if self.verbose else 0,\n",
    "                                  batch_size=batch_size, validation_data=validation_data,\n",
    "                                  callbacks=callbacks_list)\n",
    "        else:\n",
    "            return self.model.fit(x, y, shuffle='batch', epochs=epochs,\n",
    "                                  verbose=1 if self.verbose else 0,\n",
    "                                  batch_size=batch_size, validation_data=validation_data)\n",
    "\n",
    "    def evaluate(self, x, y):\n",
    "        return self.model.evaluate(x, y)\n",
    "\n",
    "    def predict(self, x):\n",
    "        return self.model.predict(x)"
   ]
  },
  {
   "cell_type": "code",
   "execution_count": null,
   "metadata": {},
   "outputs": [],
   "source": [
    "from keras.layers.embeddings import Embedding\n",
    "from keras.models import Model\n",
    "from keras import Input\n",
    "from keras.layers import (Input, Conv2D, Dense, Dropout,\n",
    "                          MaxPooling2D, Flatten, Concatenate, Reshape)\n",
    "\n",
    "\n",
    "class CustomModel(CustomModel):\n",
    "    '''Extended CustomModel'''\n",
    "\n",
    "    def buildCNN2D(self, embedding, drop_rates=[.3, .3] , nb_filters=256,\n",
    "                   filter_size=[2,3,4], padding=PADDING):\n",
    "        self.embedding = embedding\n",
    "\n",
    "        my_input = Input(shape=(self.paddingLength, ), name= 'input')\n",
    "\n",
    "        embedding = Embedding(input_dim=self.embedding.shape[0],\n",
    "                               output_dim=self.embedding.shape[1],\n",
    "                               weights=[self.embedding],\n",
    "                               input_length=self.paddingLength,\n",
    "                               trainable=self.trainable,\n",
    "                               name='embedding')(my_input)\n",
    "        embedding = Reshape((padding, self.embedding.shape[1], 1))(embedding)\n",
    "        embedding_dropped = Dropout(drop_rates[0], name='drop0')(embedding)\n",
    "        \n",
    "        # one concatenates 3 filter sizes\n",
    "        conv0 = Conv2D(nb_filters, (filter_size[0], self.embedding.shape[1]),\n",
    "                       activation='relu', name='conv0', padding='valid')(embedding_dropped)\n",
    "        pooled0 = MaxPooling2D(pool_size=(padding - filter_size[0] + 1, 1),\n",
    "                               strides=(1, 1), padding='valid', name='pool0')(conv0)\n",
    "        \n",
    "        conv1 = Conv2D(nb_filters, (filter_size[1], self.embedding.shape[1]),\n",
    "                       activation='relu', name='conv1', padding='valid')(embedding_dropped)\n",
    "        pooled1 = MaxPooling2D(pool_size = (padding - filter_size[1] + 1, 1),\n",
    "                               strides=(1, 1), padding='valid', name='pool1')(conv1)\n",
    "        \n",
    "        conv2 = Conv2D(nb_filters, (filter_size[2], self.embedding.shape[1]),\n",
    "                       activation='relu', name='conv2', padding='valid')(embedding_dropped)\n",
    "        pooled2 = MaxPooling2D(pool_size = (padding - filter_size[2] + 1, 1),\n",
    "                               strides=(1, 1), padding='valid', name='pool2')(conv2)\n",
    "        \n",
    "        concatenated = Concatenate(axis=1)([pooled0, pooled1, pooled2])\n",
    "        flattened = keras.layers.Flatten()(concatenated)\n",
    "        dropped1 = Dropout(drop_rates[1], name='drop1')(flattened)  \n",
    "        prob = Dense(self.nbCategories, activation='softmax', name='dense2')(dropped1)\n",
    "\n",
    "        self.model = Model(my_input, prob)\n",
    "\n",
    "        self.model.compile(\n",
    "            loss='categorical_crossentropy',\n",
    "            optimizer='adam',\n",
    "            metrics=['accuracy']\n",
    "        )"
   ]
  },
  {
   "cell_type": "code",
   "execution_count": null,
   "metadata": {},
   "outputs": [],
   "source": [
    "DROP_RATES = [.3, .3]\n",
    "NB_FILTERS = 512\n",
    "FILTER_SIZE = [2,3,4]\n",
    "\n",
    "trainingHistory = {}\n",
    "\n",
    "model = CustomModel(verbose=True, nbCategories=NB_CATEGORIES, trainable=TRAINABLE)\n",
    "# model.buildCNN1D(reducedEmbeddings, drop_rates=DROP_RATES, nb_filters=NB_FILTERS,\n",
    "#                  filter_size=FILTER_SIZE)\n",
    "model.buildCNN2D(reducedEmbeddings, drop_rates=DROP_RATES, nb_filters=NB_FILTERS)\n",
    "model.model.summary()\n",
    "print('Total number of model parameters:', model.model.count_params())"
   ]
  },
  {
   "cell_type": "code",
   "execution_count": null,
   "metadata": {},
   "outputs": [],
   "source": [
    "#model.model.load_weights('../models_checkpoints/weights-nbf512-0.733.hdf5')"
   ]
  },
  {
   "cell_type": "code",
   "execution_count": null,
   "metadata": {},
   "outputs": [],
   "source": [
    "BATCH_SIZE = 32\n",
    "EPOCHS = 10\n",
    "\n",
    "trainingPartialHistory = model.train(xTrain, yTrain, epochs=EPOCHS, batch_size=BATCH_SIZE,\n",
    "                                     validation_data=(xValid, yValid), callback=True)\n",
    "\n",
    "for key in trainingPartialHistory.history:\n",
    "    if key in trainingHistory:\n",
    "        trainingHistory[key] += trainingPartialHistory.history[key]\n",
    "    else:\n",
    "        trainingHistory[key] = trainingPartialHistory.history[key]"
   ]
  },
  {
   "cell_type": "code",
   "execution_count": null,
   "metadata": {},
   "outputs": [],
   "source": [
    "loss = model.evaluate(xValid, yValid)\n",
    "\n",
    "prediction = model.predict(xValid)\n",
    "predictionCategories = np.argmax(prediction, axis=1)\n",
    "yValidCategories = np.argmax(yValid, axis=1)\n",
    "accuracy = 100 * sum([predictionCategories[i] == yValidCategories[i]\n",
    "                      for i in range(len(yValidCategories))]) / len(yValidCategories)\n",
    "\n",
    "print('Accuracy: {:.2f} %\\nLoss: {}'.format(accuracy, str(loss)))"
   ]
  },
  {
   "cell_type": "code",
   "execution_count": 55,
   "metadata": {},
   "outputs": [],
   "source": [
    "import collections"
   ]
  },
  {
   "cell_type": "code",
   "execution_count": 20,
   "metadata": {},
   "outputs": [],
   "source": [
    "yPosition = np.arange(2*NB_CATEGORIES)\n",
    "\n",
    "c = collections.Counter(yValidCategories)\n",
    "od = collections.OrderedDict(sorted(c.items(), key=lambda x: x[0]))\n",
    "cp = collections.Counter(predictionCategories)\n",
    "odp = collections.OrderedDict(sorted(cp.items(), key=lambda x: x[0]))\n",
    "\n",
    "correctResults = predictionCategories[predictionCategories == yValidCategories]\n",
    "cc = collections.Counter(correctResults)\n",
    "odc = collections.OrderedDict(sorted(cc.items(), key=lambda x: x[0]))"
   ]
  },
  {
   "cell_type": "code",
   "execution_count": 21,
   "metadata": {},
   "outputs": [],
   "source": [
    "pod = np.zeros(2*NB_CATEGORIES)\n",
    "for key in od:\n",
    "    pod[2*key] = od[key]\n",
    "\n",
    "podp = np.zeros(2*NB_CATEGORIES)\n",
    "for key in odp:\n",
    "    podp[2*key+1] = odp[key]\n",
    "\n",
    "podc = np.zeros(2*NB_CATEGORIES)\n",
    "for key in odc:\n",
    "    podc[2*key+1] = odc[key]"
   ]
  },
  {
   "cell_type": "code",
   "execution_count": 22,
   "metadata": {},
   "outputs": [
    {
     "data": {
      "image/png": "[encoded data removed]",
      "text/plain": [
       "<matplotlib.figure.Figure at 0x7f4f5c179f28>"
      ]
     },
     "metadata": {},
     "output_type": "display_data"
    }
   ],
   "source": [
    "plt.figure(figsize=(15,8))\n",
    "#plt.yscale('log')\n",
    "\n",
    "plt.bar(yPosition, pod, alpha=0.7, label='Appeared')\n",
    "plt.bar(yPosition, podp, alpha=0.5, label='Predicted')\n",
    "plt.bar(yPosition, podc, alpha=0.5, label='Correctly Predicted')\n",
    "\n",
    "plt.ylabel('Unique count')\n",
    "plt.title('Categories')\n",
    "plt.legend()\n",
    " \n",
    "plt.show()"
   ]
  },
  {
   "cell_type": "markdown",
   "metadata": {},
   "source": [
    "## Exploration of what went wrong"
   ]
  },
  {
   "cell_type": "code",
   "execution_count": 23,
   "metadata": {},
   "outputs": [],
   "source": [
    "W2IX = {}\n",
    "for k, v in tokenizer.word_index.items():\n",
    "    W2IX[v] = k\n",
    "def seq2sent(s, w2ix = W2IX):\n",
    "    sent = []\n",
    "    for w in s:\n",
    "        if w != 0:\n",
    "            sent.append(w2ix[w])\n",
    "    return ' '.join(sent)"
   ]
  },
  {
   "cell_type": "code",
   "execution_count": 24,
   "metadata": {},
   "outputs": [],
   "source": [
    "w_pred = {}\n",
    "t_pred = {}\n",
    "for c in np.arange(NB_CATEGORIES):\n",
    "    w_pred[c] = []\n",
    "    t_pred[c] = []\n",
    "\n",
    "for q, t_lab, pred_lab in zip(xValid, yValidCategories, predictionCategories):\n",
    "    q = seq2sent(q)\n",
    "    if pred_lab == t_lab:\n",
    "        t_pred[t_lab].append(tuple((pred_lab, q)))\n",
    "    else:\n",
    "        w_pred[t_lab].append(tuple((pred_lab, q)))"
   ]
  },
  {
   "cell_type": "code",
   "execution_count": 25,
   "metadata": {},
   "outputs": [],
   "source": [
    "assignation_matrix = np.zeros((NB_CATEGORIES, NB_CATEGORIES))\n",
    "for c in np.arange(NB_CATEGORIES):\n",
    "    for e in w_pred[c]:\n",
    "        assignation_matrix[c,e[0]] += 1"
   ]
  },
  {
   "cell_type": "markdown",
   "metadata": {},
   "source": [
    "## Explore wrong predictions "
   ]
  },
  {
   "cell_type": "code",
   "execution_count": 26,
   "metadata": {},
   "outputs": [
    {
     "name": "stdout",
     "output_type": "stream",
     "text": [
      "----------true predictions------------\n",
      "[(0, 'quelle alternative à la rupture de havrix'), (0, 'quelle alternative au plavix'), (0, 'compose de depakote 100 mg je suis bipolaire de 3 xanax de 0 5 auparavent 4 j ai beaucoup de mal a diminuer et tercian neuroleptique que j aimerais arrêter donc me sevrer car il me shoote trop et c est pas compatible avec le travail de plus il me fait prendre bip de poids le tableau je suis insomniaque depuis 15 ans rien a faire alors je prends chaque soir un peu de mélatonine 5mg et ca m aide bcp est ce une bonne idée de remplacer le tercian qui m est donne pour dormir par de la melatonine'), (0, 'puis je prendre lectil à la place de serc ou bétaserc'), (0, 'le cérat de alien contre indiqué chez les enfants de moins de 3 ans quelle alternative'), (0, 'quelle alternative au méningite en cas de rupture'), (0, 'si cycline pour acné que faire pour remplacer pendant l été'), (0, 'est ce que le pneumovax est équivalent au pneumo 23'), (0, 'bonjour j aimerais arrêter de prendre du bromazepam anxiolitique pour m endormir car je souhaiterais avoir un enfant quel médicament puis je prendre en substitution sans risque pour le bébé j ai essayé plusieurs fois d arrêter sans succès j attends avec impatience une réponse d avance merci'), (0, 'quelle alternative thérapeutique à l erphilus pour un bébé quand la prise est compliquée')]\n",
      "-----------wrong prediction------------\n"
     ]
    },
    {
     "data": {
      "text/plain": [
       "[(5, 'for et priopix la mémé chose ou pas'),\n",
       " (10, 'changement diane 35'),\n",
       " (42, '2 engerix 10 1 engerix 20'),\n",
       " (5,\n",
       "  'je suis sous triella est ce que quelqu un s y connaîtrait dans le domaine et me conseillerai une pilule équivalente'),\n",
       " (38,\n",
       "  'je prend du seresta 3 fois par jour mais je me réveille quand j arrive à dormir toujours en pleine crise d angoisse ne serait il pas plus judicieux de prendre un lexomil le soir qui a une durée de vie plus longue'),\n",
       " (12, 'allergique au flacon que faire'),\n",
       " (35,\n",
       "  'comment traiter une dishydrose si le dermoval et une préparation sulfate de cuivre 10mg 10l d eau en bain et dermalibour n ont pas marché'),\n",
       " (47,\n",
       "  'quelqu un connaît il l équivalent de la cérazette même condition mais remboursée svp'),\n",
       " (34,\n",
       "  'j aurais aimer savoir si il n y as pas une pilule moins dosées et moins contraignante que jasminelle celle que je prends actuellement'),\n",
       " (9,\n",
       "  'je voudrais savoir si vous connaissez un crémé qui est pareil ou presque au diprosept de celle ci mais sans ordonnance'),\n",
       " (48,\n",
       "  'je prend du théralite 250 depuis très longtemps mon psy avait étudié le remplacement du téralithe et m avait proposé le risperdal le changement est il dangereux'),\n",
       " (1, 'pneumovax est il pareil que pneumo 23'),\n",
       " (28, 'je ne supporte pas les antidépresseurs millepertuis'),\n",
       " (32,\n",
       "  'j ai une patiente qui a subi une greffe des poumons en octobre 2016 qui entre en maison de rééducation mais elle est encore sous oxygène et j ai besoin de vos conseils pour ses lèvres gercées car on ne peut pas appliquer de corps gras qu est ce que je peux lui donner'),\n",
       " (28,\n",
       "  'j ai déjà commencé mon chemin phyto j ai pris de la gemmothérapie j essaye aussi les huiles essentielles auriez vous d autres pistes'),\n",
       " (12,\n",
       "  'en cas d échec traitement par azithromycine ou doxycycline pour chlamydiae que faire'),\n",
       " (31, 'que prendre en cas de migraine et d échec thérapeutiques aux triptans')]"
      ]
     },
     "execution_count": 26,
     "metadata": {},
     "output_type": "execute_result"
    }
   ],
   "source": [
    "ix = 0\n",
    "print('----------true predictions------------')\n",
    "print(t_pred[ix][:10])\n",
    "print('-----------wrong prediction------------')\n",
    "w_pred[ix]"
   ]
  },
  {
   "cell_type": "markdown",
   "metadata": {},
   "source": [
    "## Category exploration"
   ]
  },
  {
   "cell_type": "code",
   "execution_count": 27,
   "metadata": {},
   "outputs": [
    {
     "name": "stdout",
     "output_type": "stream",
     "text": [
      "204 questions in the category 0\n"
     ]
    },
    {
     "data": {
      "text/plain": [
       "['comment traiter une dishydrose si le dermoval et une préparation sulfate de cuivre 10mg 10l d eau en bain et dermalibour n ont pas marché',\n",
       " 'j ai des fortes brûlures d estomac je prends du rennie et ça ne me fait rien connaissez vous un remède plus efficace',\n",
       " 'par quoi puis je remplacer engerix',\n",
       " 'y a t il un médicament qui peu m aider a calmer l anxiété car le prozac ne calme pas vraiment',\n",
       " 'je souffre de colopathie fonctionnelle et il s avère que la seule chose qui me fasse réellement du bien soit les anxiolytiques malheureusement je suis aussi atteint d une hépatite c et n ai donc pas droit à ce type de médicament y a t il une solution',\n",
       " 'connaissez vous un équivalent au pansement opsine post opératoire',\n",
       " 'quelle alternative à cialis',\n",
       " 'bonjour je prends diane depuis 3 ans et elle est très bien pour moi mais je voudrais l arreter et en prendre une qui ne soit qu une contraception quelles sont les autres pilules qui ne sont pas néfastes pour la peu mais toutefois qui sont uniquement contraceptives merci bocou',\n",
       " 'quel vaccin faire maintenant que le ftp n est plus dispo',\n",
       " 'clarithromycine ampicilline']"
      ]
     },
     "execution_count": 27,
     "metadata": {},
     "output_type": "execute_result"
    }
   ],
   "source": [
    "yCat = np.argmax(y, axis = 1)\n",
    "sentence_list = selectCat(x, yCat, ix)[:]\n",
    "sentence_list = [seq2sent(s) for s  in sentence_list]\n",
    "print('{} questions in the category {}'.format(len(sentence_list), ix))\n",
    "sentence_list[:10]"
   ]
  },
  {
   "cell_type": "code",
   "execution_count": null,
   "metadata": {},
   "outputs": [],
   "source": []
  },
  {
   "cell_type": "code",
   "execution_count": null,
   "metadata": {},
   "outputs": [],
   "source": []
  }
 ],
 "metadata": {
  "kernelspec": {
   "display_name": "Python 3",
   "language": "python",
   "name": "python3"
  },
  "language_info": {
   "codemirror_mode": {
    "name": "ipython",
    "version": 3
   },
   "file_extension": ".py",
   "mimetype": "text/x-python",
   "name": "python",
   "nbconvert_exporter": "python",
   "pygments_lexer": "ipython3",
   "version": "3.5.2"
  }
 },
 "nbformat": 4,
 "nbformat_minor": 2
}
