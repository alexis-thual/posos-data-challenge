{
 "cells": [
  {
   "cell_type": "code",
   "execution_count": 1,
   "metadata": {},
   "outputs": [
    {
     "name": "stderr",
     "output_type": "stream",
     "text": [
      "Using TensorFlow backend.\n"
     ]
    }
   ],
   "source": [
    "import csv\n",
    "import gensim\n",
    "import keras\n",
    "import numpy as np\n",
    "import pandas as pd\n",
    "import matplotlib.pyplot as plt\n",
    "import os\n",
    "from key_words_extract import *\n",
    "\n",
    "from tqdm import tqdm\n",
    "\n",
    "from scipy.spatial.distance import cosine\n",
    "\n",
    "from keras.preprocessing import sequence, text\n",
    "from keras.utils.np_utils import to_categorical\n",
    "\n",
    "\n",
    "from sklearn.ensemble import RandomForestClassifier\n",
    "from sklearn.metrics import accuracy_score\n",
    "from sklearn.model_selection import train_test_split\n",
    "from sklearn.feature_extraction.text import TfidfVectorizer"
   ]
  },
  {
   "cell_type": "code",
   "execution_count": 2,
   "metadata": {},
   "outputs": [],
   "source": [
    "RANDOM_SEED = 42\n",
    "NB_CATEGORIES = 51\n",
    "PADDING = 100\n",
    "PRE_TRAINED_DIM = 300\n",
    "REDUCED_DIM = 100\n",
    "NB_KEYWORDS = 10\n",
    "\n",
    "dataDirPath = './challenge_data'\n",
    "embeddingsDirPath = './../word_embeddings/'\n",
    "xPath = os.path.join(dataDirPath, 'input_train.csv')\n",
    "yPath = os.path.join(dataDirPath, 'output_train.csv')\n",
    "xTestPath = os.path.join(dataDirPath, 'input_test.csv')\n",
    "#embeddingPath = os.path.join(embeddingsDirPath, 'wiki.fr.vec')\n",
    "#embeddingPath = os.path.join(embeddingsDirPath, 'retrained_fr.vec')\n",
    "embeddingPath = os.path.join(embeddingsDirPath, 'retrained_questions.vec')"
   ]
  },
  {
   "cell_type": "markdown",
   "metadata": {},
   "source": [
    "## Loading Word Embeddings"
   ]
  },
  {
   "cell_type": "code",
   "execution_count": 3,
   "metadata": {},
   "outputs": [
    {
     "data": {
      "text/plain": [
       "'pretrainedEmbeddings = gensim.models.KeyedVectors.    load_word2vec_format(embeddingPath, binary=False)'"
      ]
     },
     "execution_count": 3,
     "metadata": {},
     "output_type": "execute_result"
    }
   ],
   "source": [
    "'''pretrainedEmbeddings = gensim.models.KeyedVectors.\\\n",
    "    load_word2vec_format(embeddingPath, binary=False)'''"
   ]
  },
  {
   "cell_type": "markdown",
   "metadata": {},
   "source": [
    "## Load data"
   ]
  },
  {
   "cell_type": "code",
   "execution_count": 4,
   "metadata": {},
   "outputs": [],
   "source": [
    "x = pd.read_csv(xPath, delimiter=';', usecols=[1]).values.ravel()\n",
    "xTest = pd.read_csv(xTestPath, delimiter=';', usecols=[1]).values.ravel()\n",
    "y = pd.read_csv(yPath, delimiter=';', usecols=[1]).values.ravel()"
   ]
  },
  {
   "cell_type": "markdown",
   "metadata": {},
   "source": [
    "## Preprocessing"
   ]
  },
  {
   "cell_type": "code",
   "execution_count": 5,
   "metadata": {},
   "outputs": [
    {
     "name": "stdout",
     "output_type": "stream",
     "text": [
      "7973\n"
     ]
    }
   ],
   "source": [
    "correctionsDict = {}\n",
    "correctionsPath = os.path.join(dataDirPath, 'corrections.csv')\n",
    "\n",
    "with open(correctionsPath, 'r') as f:\n",
    "    for key, val in csv.reader(f):\n",
    "        correctionsDict[key] = val\n",
    "\n",
    "def spellingCorrection(sentence, correctionsDict={}, verbose=False):\n",
    "    correctedSentence = []\n",
    "    nb_corrections = 0\n",
    "    for word in sentence.split():\n",
    "        if word in correctionsDict.keys():\n",
    "            word = correctionsDict[word]\n",
    "            nb_corrections += 1\n",
    "        correctedSentence.append(word)\n",
    "    if verbose:\n",
    "        return ' '.join(correctedSentence), nb_corrections\n",
    "    else:\n",
    "        return ' '.join(correctedSentence)\n",
    "\n",
    "nb_corr = 0\n",
    "for i, s in enumerate(x):\n",
    "    cor = spellingCorrection(s, correctionsDict, verbose = True)\n",
    "    x[i] = cor[0]\n",
    "    nb_corr += cor[1]\n",
    "\n",
    "for i, s in enumerate(xTest):\n",
    "    cor = spellingCorrection(s, correctionsDict, verbose = True)\n",
    "    xTest[i] = cor[0]\n",
    "    nb_corr += cor[1]\n",
    "print(nb_corr)"
   ]
  },
  {
   "cell_type": "code",
   "execution_count": 6,
   "metadata": {
    "slideshow": {
     "slide_type": "subslide"
    }
   },
   "outputs": [],
   "source": [
    "class CustomModel():\n",
    "    '''Generic workflow class.'''\n",
    "\n",
    "    def __init__(self, **kwargs):\n",
    "        self.verbose = kwargs.get('verbose', False)\n",
    "        self.nbCategories = kwargs['nbCategories']\n",
    "        self.paddingLength = PADDING\n",
    "        self.tokenizer = text.Tokenizer(num_words=1e5, \n",
    "                                        filters=\"!\\\"#$%&()*+,-./:;<=>?@[\\\\]^_`{|}~\\t\\n'´’™©®«»\",\n",
    "                                        split=\" \")\n",
    "    \n",
    "    def tokenizer_fit(self, x):\n",
    "        self.tokenizer.fit_on_texts(x)\n",
    "    \n",
    "    def tokenize(self, x):\n",
    "        x = self.tokenizer.texts_to_sequences(x)\n",
    "        x = sequence.pad_sequences(x, PADDING)\n",
    "        return x\n",
    "    \n",
    "    def buildKeywords(self, x, y, k):\n",
    "        self.kwords, self.kweights = keyWordsExtract(x=x, y=y, k=k, toVector=True)\n",
    "        return self.kwords\n",
    "        \n",
    "    def build_tfidf(self, x, xTest=None):\n",
    "        self.tfidf = TfidfVectorizer(input = 'content')\n",
    "        xTrain = self.tfidf.fit_transform(x)\n",
    "        if xTest is not None:\n",
    "            xTest = self.tfidf.transform(xTest)\n",
    "            return xTrain, xTest\n",
    "        else:\n",
    "            return xTrain\n",
    "\n",
    "    def buildFeatures(self, x, k, embeddings):\n",
    "        x_feat = np.zeros((x.shape[0], k*self.nbCategories))\n",
    "        kindices = np.array([self.tokenizer.word_index[w] for w in self.kwords])\n",
    "        print(x.shape)\n",
    "        for i in tqdm(np.arange(x.shape[0])):\n",
    "            xx = x[i]\n",
    "            for j, keyword in enumerate(kindices):\n",
    "                if keyword in xx:\n",
    "                    x_feat[i, j] = 1\n",
    "        return x_feat\n",
    "    \n",
    "    def train_xgboost(self, x, y):\n",
    "        return\n",
    "       \n",
    "    def evaluate(self, x, y):\n",
    "        return self.model.evaluate(x, y)\n",
    "\n",
    "    def predict(self, x):\n",
    "        return self.model.predict(x)"
   ]
  },
  {
   "cell_type": "markdown",
   "metadata": {},
   "source": [
    "### Tokenizing"
   ]
  },
  {
   "cell_type": "code",
   "execution_count": 7,
   "metadata": {},
   "outputs": [
    {
     "name": "stdout",
     "output_type": "stream",
     "text": [
      "Vocabulary size:  10175\n"
     ]
    }
   ],
   "source": [
    "# we need to create the model here\n",
    "model = CustomModel(verbose=True, nbCategories=NB_CATEGORIES)\n",
    "model.tokenizer_fit(np.concatenate((x, xTest)))\n",
    "vocabulary = model.tokenizer.word_index.keys()\n",
    "print('Vocabulary size: ', len(vocabulary))"
   ]
  },
  {
   "cell_type": "markdown",
   "metadata": {},
   "source": [
    "#### TFIDF features"
   ]
  },
  {
   "cell_type": "code",
   "execution_count": 8,
   "metadata": {},
   "outputs": [],
   "source": [
    "#xTrain_tf, xTest_tf = model.build_tfidf(x, xTest)"
   ]
  },
  {
   "cell_type": "markdown",
   "metadata": {},
   "source": [
    "#### Keywords features"
   ]
  },
  {
   "cell_type": "code",
   "execution_count": 9,
   "metadata": {},
   "outputs": [],
   "source": [
    "# if a dictionnary {cat: [keywords]} is wanted, set toVector = False\n",
    "#model.buildKeywords(x, y, k = NB_KEYWORDS)\n",
    "\n",
    "#x = model.tokenize(x)\n",
    "#xTest = model.tokenize(xTest)\n",
    "#y = to_categorical(y, num_classes=NB_CATEGORIES)"
   ]
  },
  {
   "cell_type": "code",
   "execution_count": 10,
   "metadata": {},
   "outputs": [
    {
     "name": "stdout",
     "output_type": "stream",
     "text": [
      "Liste de médicaments regroupant les libéllés ATC et lesdénominations de spécialité, de taille: 8390\n",
      "Sample of medicament names:  ['a 313 200  pour cent', 'a 313 50 000 u.i', 'abacavir', 'abacavir/lamivudine', 'abacavir/lamivudine pharma', 'abacavir/lamivudine pharos', 'abamipharm', 'abboticine', 'abelcet', 'abstral']\n"
     ]
    }
   ],
   "source": [
    "MEDICAMENTS = []\n",
    "\n",
    "with open(os.path.join(dataDirPath, 'medicList.txt')) as f:\n",
    "    for line in f:\n",
    "        MEDICAMENTS.append(line.lower().rstrip())\n",
    "\n",
    "print('Liste de médicaments regroupant les libéllés ATC et les'\n",
    "      'dénominations de spécialité, de taille: {}'.format(len(MEDICAMENTS)))\n",
    "print('Sample of medicament names: ', MEDICAMENTS[:10])"
   ]
  },
  {
   "cell_type": "code",
   "execution_count": 11,
   "metadata": {},
   "outputs": [],
   "source": [
    "from unidecode import unidecode"
   ]
  },
  {
   "cell_type": "markdown",
   "metadata": {},
   "source": [
    "embeddings = np.zeros((len(vocabulary) + 1 , PRE_TRAINED_DIM))\n",
    "not_in_pretrained = []\n",
    "detected_medic = []\n",
    "\n",
    "for word, idx in model.tokenizer.word_index.items():\n",
    "    if word not in pretrainedEmbeddings.vocab:\n",
    "        unaccented = unidecode(word)\n",
    "        if word in MEDICAMENTS:\n",
    "            vec = pretrainedEmbeddings['médicament']\n",
    "            detected_medic.append(word)\n",
    "        else:\n",
    "            vec = np.zeros(PRE_TRAINED_DIM)\n",
    "            not_in_pretrained.append(word)\n",
    "    else:\n",
    "        vec = pretrainedEmbeddings[word]\n",
    "\n",
    "    # word_to_index is 1-based! the 0-th row, used for padding, stays at zero\n",
    "    embeddings[idx,] = vec"
   ]
  },
  {
   "cell_type": "markdown",
   "metadata": {},
   "source": [
    "print('---------- Embedding Created ----------')\n",
    "print('Number of words in corpus that do not appear in '\n",
    "      'pretrained Fasttext: ', len(not_in_pretrained))\n",
    "print('size of the embedding: {}'.format(embeddings.shape))"
   ]
  },
  {
   "cell_type": "markdown",
   "metadata": {},
   "source": [
    "from sklearn.decomposition import PCA\n",
    "pca = PCA(n_components=REDUCED_DIM)\n",
    "reducedEmbeddings = pca.fit_transform(embeddings)"
   ]
  },
  {
   "cell_type": "markdown",
   "metadata": {},
   "source": [
    "## Key Words features"
   ]
  },
  {
   "cell_type": "code",
   "execution_count": 12,
   "metadata": {},
   "outputs": [],
   "source": [
    "#xTrain, xValid, yTrain, yValid = train_test_split(x, y, test_size=.2,random_state=RANDOM_SEED)"
   ]
  },
  {
   "cell_type": "code",
   "execution_count": 13,
   "metadata": {},
   "outputs": [],
   "source": [
    "#fTrain = model.buildFeatures(x=xTrain, k=NB_KEYWORDS, embeddings=reducedEmbeddings)"
   ]
  },
  {
   "cell_type": "code",
   "execution_count": 14,
   "metadata": {},
   "outputs": [],
   "source": [
    "#fValid = model.buildFeatures(x=xValid, k=NB_KEYWORDS, embeddings=reducedEmbeddings)"
   ]
  },
  {
   "cell_type": "markdown",
   "metadata": {},
   "source": [
    "## Classifiers with tfidf features"
   ]
  },
  {
   "cell_type": "markdown",
   "metadata": {},
   "source": [
    "### Random forest"
   ]
  },
  {
   "cell_type": "code",
   "execution_count": 15,
   "metadata": {},
   "outputs": [],
   "source": [
    "xTrain_r, xValid_r, yTrain, yValid = train_test_split(x, y, test_size = .2, random_state=RANDOM_SEED)\n",
    "xTrain, xValid = model.build_tfidf(xTrain_r, xValid_r)"
   ]
  },
  {
   "cell_type": "code",
   "execution_count": 38,
   "metadata": {},
   "outputs": [],
   "source": [
    "clf = RandomForestClassifier(n_estimators= 100, verbose =0, max_depth=None, min_samples_split=2, min_samples_leaf=1)\n",
    "clf = clf.fit(xTrain, yTrain)"
   ]
  },
  {
   "cell_type": "code",
   "execution_count": 39,
   "metadata": {},
   "outputs": [
    {
     "name": "stdout",
     "output_type": "stream",
     "text": [
      "Accuracy: 61.08343711083437\n"
     ]
    }
   ],
   "source": [
    "predictionCategories = clf.predict(xValid)\n",
    "accuracy = accuracy_score(yValid, predictionCategories)\n",
    "print(\"Accuracy: {}\".format(accuracy*100.0))"
   ]
  },
  {
   "cell_type": "markdown",
   "metadata": {},
   "source": [
    "### Perceptron"
   ]
  },
  {
   "cell_type": "code",
   "execution_count": 18,
   "metadata": {},
   "outputs": [],
   "source": [
    "from sklearn.linear_model import Perceptron"
   ]
  },
  {
   "cell_type": "code",
   "execution_count": 19,
   "metadata": {},
   "outputs": [],
   "source": [
    "clf = Perceptron(penalty = 'l2', alpha = 0.00001, verbose = 0, max_iter=1000, tol=1e-3)\n",
    "clf = clf.fit(xTrain, yTrain)"
   ]
  },
  {
   "cell_type": "code",
   "execution_count": 20,
   "metadata": {},
   "outputs": [
    {
     "name": "stdout",
     "output_type": "stream",
     "text": [
      "Accuracy: 59.02864259028643\n"
     ]
    }
   ],
   "source": [
    "predictionCategories = clf.predict(xValid)\n",
    "accuracy = accuracy_score(yValid, predictionCategories)\n",
    "print(\"Accuracy: {}\".format(accuracy*100.0))"
   ]
  },
  {
   "cell_type": "markdown",
   "metadata": {},
   "source": [
    "### RBF SVM"
   ]
  },
  {
   "cell_type": "code",
   "execution_count": 21,
   "metadata": {},
   "outputs": [
    {
     "name": "stdout",
     "output_type": "stream",
     "text": [
      "[LibSVM]"
     ]
    }
   ],
   "source": [
    "from sklearn.svm import SVC\n",
    "clf = SVC(C=10000, kernel='rbf', degree=3, tol=0.001, verbose=True, max_iter=-1)\n",
    "clf = clf.fit(xTrain, yTrain)"
   ]
  },
  {
   "cell_type": "code",
   "execution_count": 22,
   "metadata": {},
   "outputs": [
    {
     "name": "stdout",
     "output_type": "stream",
     "text": [
      "Accuracy: 66.81195516811955\n"
     ]
    }
   ],
   "source": [
    "predictionCategories = clf.predict(xValid)\n",
    "accuracy = accuracy_score(yValid, predictionCategories)\n",
    "print(\"Accuracy: {}\".format(accuracy*100.0))"
   ]
  },
  {
   "cell_type": "markdown",
   "metadata": {},
   "source": [
    "### Linear SVM"
   ]
  },
  {
   "cell_type": "code",
   "execution_count": 53,
   "metadata": {},
   "outputs": [
    {
     "name": "stdout",
     "output_type": "stream",
     "text": [
      "[LibLinear]"
     ]
    }
   ],
   "source": [
    "from sklearn.svm import LinearSVC\n",
    "clf = LinearSVC(penalty = 'l2', max_iter = 10000, loss='squared_hinge', dual=True, tol=0.00001, C=1, verbose = 1, multi_class='ovr')\n",
    "clf = clf.fit(xTrain, yTrain)"
   ]
  },
  {
   "cell_type": "code",
   "execution_count": 54,
   "metadata": {},
   "outputs": [
    {
     "name": "stdout",
     "output_type": "stream",
     "text": [
      "train-accuracy: 98.34942385549674\n",
      "Test-accuracy: 68.8667496886675\n"
     ]
    }
   ],
   "source": [
    "\n",
    "predictionCategories = clf.predict(xTrain)\n",
    "accuracy = accuracy_score(yTrain, predictionCategories)\n",
    "print(\"train-accuracy: {}\".format(accuracy*100.0))\n",
    "predictionCategories = clf.predict(xValid)\n",
    "accuracy = accuracy_score(yValid, predictionCategories)\n",
    "print(\"Test-accuracy: {}\".format(accuracy*100.0))"
   ]
  },
  {
   "cell_type": "markdown",
   "metadata": {},
   "source": [
    "### NN"
   ]
  },
  {
   "cell_type": "code",
   "execution_count": 25,
   "metadata": {},
   "outputs": [
    {
     "name": "stdout",
     "output_type": "stream",
     "text": [
      "_________________________________________________________________\n",
      "Layer (type)                 Output Shape              Param #   \n",
      "=================================================================\n",
      "input (InputLayer)           (None, 8162)              0         \n",
      "_________________________________________________________________\n",
      "dense1 (Dense)               (None, 256)               2089728   \n",
      "_________________________________________________________________\n",
      "dropout_1 (Dropout)          (None, 256)               0         \n",
      "_________________________________________________________________\n",
      "dense2 (Dense)               (None, 256)               65792     \n",
      "_________________________________________________________________\n",
      "dropout_2 (Dropout)          (None, 256)               0         \n",
      "_________________________________________________________________\n",
      "output (Dense)               (None, 51)                13107     \n",
      "=================================================================\n",
      "Total params: 2,168,627\n",
      "Trainable params: 2,168,627\n",
      "Non-trainable params: 0\n",
      "_________________________________________________________________\n",
      "Train on 6422 samples, validate on 1606 samples\n",
      "Epoch 1/5\n",
      "6422/6422 [==============================] - 9s 1ms/step - loss: 2.9858 - acc: 0.2628 - val_loss: 2.2586 - val_acc: 0.4440\n",
      "Epoch 2/5\n",
      "6422/6422 [==============================] - 8s 1ms/step - loss: 1.8133 - acc: 0.5462 - val_loss: 1.6273 - val_acc: 0.5897\n",
      "Epoch 3/5\n",
      "6422/6422 [==============================] - 8s 1ms/step - loss: 1.0487 - acc: 0.7365 - val_loss: 1.4632 - val_acc: 0.6314\n",
      "Epoch 4/5\n",
      "6422/6422 [==============================] - 8s 1ms/step - loss: 0.6097 - acc: 0.8499 - val_loss: 1.4597 - val_acc: 0.6420\n",
      "Epoch 5/5\n",
      "6422/6422 [==============================] - 8s 1ms/step - loss: 0.3763 - acc: 0.9100 - val_loss: 1.5311 - val_acc: 0.6501\n"
     ]
    },
    {
     "data": {
      "text/plain": [
       "<keras.callbacks.History at 0x7f51703f5128>"
      ]
     },
     "execution_count": 25,
     "metadata": {},
     "output_type": "execute_result"
    }
   ],
   "source": [
    "xxTrain = xTrain.todense()\n",
    "xxValid = xValid.todense()\n",
    "yyTrain = keras.utils.np_utils.to_categorical(yTrain, 51)\n",
    "yyValid = keras.utils.np_utils.to_categorical(yValid, 51)\n",
    "\n",
    "nb_feats = xTrain.shape[1]\n",
    "my_input = keras.Input(shape=(nb_feats,), name = 'input')\n",
    "dense1 = keras.layers.Dense(256, activation ='relu', name ='dense1')(my_input)\n",
    "drop1 = keras.layers.Dropout(0.3)(dense1)\n",
    "dense2 = keras.layers.Dense(256, activation ='relu', name ='dense2')(drop1)\n",
    "drop2 = keras.layers.Dropout(0.3)(dense2)\n",
    "prob = keras.layers.Dense(51, activation ='softmax', name ='output')(drop2)\n",
    "clf = keras.Model(my_input, prob)\n",
    "clf.compile(loss='categorical_crossentropy', \n",
    "            optimizer = 'adam', metrics =['accuracy'])\n",
    "clf.summary()\n",
    "\n",
    "clf.fit(xxTrain, yyTrain, validation_data=(xxValid, yyValid),\n",
    "        epochs=5, batch_size = 32)"
   ]
  },
  {
   "cell_type": "markdown",
   "metadata": {},
   "source": [
    "## Vizualisation of the classification results"
   ]
  },
  {
   "cell_type": "code",
   "execution_count": 26,
   "metadata": {},
   "outputs": [],
   "source": [
    "import collections"
   ]
  },
  {
   "cell_type": "code",
   "execution_count": 27,
   "metadata": {},
   "outputs": [],
   "source": [
    "yPosition = np.arange(2*NB_CATEGORIES)\n",
    "\n",
    "c = collections.Counter(yValid)\n",
    "od = collections.OrderedDict(sorted(c.items(), key=lambda x: x[0]))\n",
    "cp = collections.Counter(predictionCategories)\n",
    "odp = collections.OrderedDict(sorted(cp.items(), key=lambda x: x[0]))\n",
    "\n",
    "correctResults = predictionCategories[predictionCategories == yValid]\n",
    "cc = collections.Counter(correctResults)\n",
    "odc = collections.OrderedDict(sorted(cc.items(), key=lambda x: x[0]))"
   ]
  },
  {
   "cell_type": "code",
   "execution_count": 28,
   "metadata": {},
   "outputs": [],
   "source": [
    "pod = np.zeros(2*NB_CATEGORIES)\n",
    "for key in od:\n",
    "    pod[2*key] = od[key]\n",
    "\n",
    "podp = np.zeros(2*NB_CATEGORIES)\n",
    "for key in odp:\n",
    "    podp[2*key+1] = odp[key]\n",
    "\n",
    "podc = np.zeros(2*NB_CATEGORIES)\n",
    "for key in odc:\n",
    "    podc[2*key+1] = odc[key]"
   ]
  },
  {
   "cell_type": "code",
   "execution_count": 29,
   "metadata": {},
   "outputs": [
    {
     "data": {
      "image/png": "[encoded data removed]",
      "text/plain": [
       "<matplotlib.figure.Figure at 0x7f51703f51d0>"
      ]
     },
     "metadata": {},
     "output_type": "display_data"
    }
   ],
   "source": [
    "plt.figure(figsize=(15,8))\n",
    "#plt.yscale('log')\n",
    "\n",
    "plt.bar(yPosition, pod, alpha=0.7, label='Appeared')\n",
    "plt.bar(yPosition, podp, alpha=0.5, label='Predicted')\n",
    "plt.bar(yPosition, podc, alpha=0.5, label='Correctly Predicted')\n",
    "\n",
    "plt.ylabel('Unique count')\n",
    "plt.title('Categories')\n",
    "plt.legend()\n",
    " \n",
    "plt.show()"
   ]
  },
  {
   "cell_type": "markdown",
   "metadata": {},
   "source": [
    "## Exportation for sankey diagram"
   ]
  },
  {
   "cell_type": "code",
   "execution_count": 30,
   "metadata": {},
   "outputs": [],
   "source": [
    "sankeyEdges = np.zeros((NB_CATEGORIES, NB_CATEGORIES))\n",
    "\n",
    "for i, category in enumerate(yValid):\n",
    "    # if we only want to see the pred errors\n",
    "    if category != predictionCategories[i]:\n",
    "        sankeyEdges[category, predictionCategories[i]] += 1\n",
    "\n",
    "with open('./challenge_data/evaluation_errors_lSVM.csv', 'w+') as f:\n",
    "    f.write('source;target;value\\n')\n",
    "\n",
    "    for i in range(NB_CATEGORIES):\n",
    "        for j in range(NB_CATEGORIES):\n",
    "            if sankeyEdges[i,j] > 0:\n",
    "                f.write('{}s;{}t;{}\\n'.format(str(i), str(j), str(int(sankeyEdges[i,j]))))"
   ]
  },
  {
   "cell_type": "markdown",
   "metadata": {},
   "source": [
    "### Final prediction on all the training set and export"
   ]
  },
  {
   "cell_type": "code",
   "execution_count": 31,
   "metadata": {},
   "outputs": [
    {
     "ename": "NameError",
     "evalue": "name 'xTrain_tf' is not defined",
     "output_type": "error",
     "traceback": [
      "\u001b[0;31m---------------------------------------------------------------------------\u001b[0m",
      "\u001b[0;31mNameError\u001b[0m                                 Traceback (most recent call last)",
      "\u001b[0;32m<ipython-input-31-845962eb5133>\u001b[0m in \u001b[0;36m<module>\u001b[0;34m()\u001b[0m\n\u001b[1;32m      1\u001b[0m \u001b[0;32mfrom\u001b[0m \u001b[0msklearn\u001b[0m\u001b[0;34m.\u001b[0m\u001b[0msvm\u001b[0m \u001b[0;32mimport\u001b[0m \u001b[0mLinearSVC\u001b[0m\u001b[0;34m\u001b[0m\u001b[0m\n\u001b[1;32m      2\u001b[0m \u001b[0mclf\u001b[0m \u001b[0;34m=\u001b[0m \u001b[0mLinearSVC\u001b[0m\u001b[0;34m(\u001b[0m\u001b[0mpenalty\u001b[0m \u001b[0;34m=\u001b[0m \u001b[0;34m'l2'\u001b[0m\u001b[0;34m,\u001b[0m \u001b[0mmax_iter\u001b[0m \u001b[0;34m=\u001b[0m \u001b[0;36m1000\u001b[0m\u001b[0;34m,\u001b[0m \u001b[0mloss\u001b[0m\u001b[0;34m=\u001b[0m\u001b[0;34m'squared_hinge'\u001b[0m\u001b[0;34m,\u001b[0m \u001b[0mdual\u001b[0m\u001b[0;34m=\u001b[0m\u001b[0;32mTrue\u001b[0m\u001b[0;34m,\u001b[0m \u001b[0mtol\u001b[0m\u001b[0;34m=\u001b[0m\u001b[0;36m0.0001\u001b[0m\u001b[0;34m,\u001b[0m \u001b[0mC\u001b[0m\u001b[0;34m=\u001b[0m\u001b[0;36m1\u001b[0m\u001b[0;34m,\u001b[0m \u001b[0mverbose\u001b[0m \u001b[0;34m=\u001b[0m \u001b[0;36m1\u001b[0m\u001b[0;34m)\u001b[0m\u001b[0;34m\u001b[0m\u001b[0m\n\u001b[0;32m----> 3\u001b[0;31m \u001b[0mclf\u001b[0m \u001b[0;34m=\u001b[0m \u001b[0mclf\u001b[0m\u001b[0;34m.\u001b[0m\u001b[0mfit\u001b[0m\u001b[0;34m(\u001b[0m\u001b[0mxTrain_tf\u001b[0m\u001b[0;34m,\u001b[0m \u001b[0my\u001b[0m\u001b[0;34m)\u001b[0m\u001b[0;34m\u001b[0m\u001b[0m\n\u001b[0m",
      "\u001b[0;31mNameError\u001b[0m: name 'xTrain_tf' is not defined"
     ]
    }
   ],
   "source": [
    "from sklearn.svm import LinearSVC\n",
    "clf = LinearSVC(penalty = 'l2', max_iter = 1000, loss='squared_hinge', dual=True, tol=0.0001, C=1, verbose = 1)\n",
    "clf = clf.fit(xTrain_tf, y)"
   ]
  },
  {
   "cell_type": "code",
   "execution_count": null,
   "metadata": {},
   "outputs": [],
   "source": [
    "exportY = clf.predict(xTest_tf)\n",
    "exportY"
   ]
  },
  {
   "cell_type": "code",
   "execution_count": null,
   "metadata": {},
   "outputs": [],
   "source": [
    "with open(os.path.join(dataDirPath, 'output_linearSVC.csv'), 'w+') as f:\n",
    "    f.write('ID;intention\\n')\n",
    "\n",
    "    for i, p in enumerate(exportY):\n",
    "        f.write('{};{}\\n'.format(str(i), str(p)))"
   ]
  },
  {
   "cell_type": "markdown",
   "metadata": {},
   "source": [
    "## Exploration of what went wrong"
   ]
  },
  {
   "cell_type": "code",
   "execution_count": 36,
   "metadata": {},
   "outputs": [],
   "source": [
    "w_pred = {}\n",
    "t_pred = {}\n",
    "for c in np.arange(NB_CATEGORIES):\n",
    "    w_pred[c] = []\n",
    "    t_pred[c] = []\n",
    "\n",
    "for q, t_lab, pred_lab in zip(xValid_r, yValid, predictionCategories):\n",
    "    if pred_lab == t_lab:\n",
    "        t_pred[t_lab].append(tuple((pred_lab, q)))\n",
    "    else:\n",
    "        w_pred[t_lab].append(tuple((pred_lab, q)))"
   ]
  },
  {
   "cell_type": "code",
   "execution_count": 37,
   "metadata": {},
   "outputs": [
    {
     "name": "stdout",
     "output_type": "stream",
     "text": [
      "----------true predictions------------\n",
      "[(0, 'Quelle alternative à la rupture de Havrix ?'), (0, 'Quelle alternative au plavix ?'), (0, 'puis je prendre lectil à la place de serc ou bétaserc?'), (0, 'Quelle alternative au méningite en cas de rupture ?'), (0, \"Si cycline pour acné, que faire pour remplacer pendant l'été ?\"), (0, 'Est-ce que le pneumovax est équivalent au pneumo 23 ?'), (0, 'Quelle alternative thérapeutique à l’erphilus pour un bébé quand la prise est compliquée?'), (0, 'deroxat similaire à prozac ??'), (0, \"je souffre d'une hyper pilosité et mon dermatologue m'a prescrit de l'androcur mais je ne le supporte pas. je voulais savoir s'il existait un autre traitement contre l'hyperpilosité ?\"), (0, 'par quoi puis je remplacer engerix?')]\n",
      "-----------wrong prediction------------\n"
     ]
    },
    {
     "data": {
      "text/plain": [
       "[(21,\n",
       "  \"je suis actuellement en sevrage de plusieurs médicaments: xanax et stilnox. il y a un mois j'etais en sevrage sec de lamictal (thymo) et theralene (hypno). ils se font effectues avec succès, aucun manque. aujourd'hui mon traitement se compose de depakote 100 mg (je suis bipolaire), de 3 xanax de 0.5 (auparavent 4) j'ai beaucoup de mal a diminuer. et tercian, neuroleptique que j'aimerais arrêter donc me sevrer car il me shoote trop et c'est pas compatible avec le travail. de plus il me fait prendre bip de poids. le tableau: je suis insomniaque depuis 15 ans rien a faire alors je prends chaque soir un peu de mélatonine (5mg) et CA m'aide bcp. est ce une bonne idée de remplacer le tercian qui m'est donne pour dormir par de la melatonine?\"),\n",
       " (44,\n",
       "  'Le Cérat de alien contre indiqué chez les enfants de moins de 3 ans, quelle alternative ?'),\n",
       " (5, 'for et priopix la mémé chose ou pas?'),\n",
       " (10, 'changement diane 35 --> ?'),\n",
       " (22, '2 engerix 10 = 1 engerix 20???'),\n",
       " (28,\n",
       "  \"Je suis sous triella. est ce que quelqu'un s'y connaîtrait dans le domaine et me conseillerai une pilule équivalente ?\"),\n",
       " (32,\n",
       "  \"bonjour, j' aimerais arrêter de prendre du bromazepam ( anxiolitique) pour m'endormir, car je souhaiterais avoir un enfant. quel médicament puis-je prendre en substitution sans risque pour le bébé ? j'ai essayé plusieurs fois d'arrêter sans succès. j'attends avec impatience une réponse. d'avance merci.\"),\n",
       " (38,\n",
       "  \"Je prend du Seresta 3 fois par jour, mais je me réveille (quand j'arrive à dormir) toujours en pleine crise d'angoisse. Ne serait il pas plus judicieux de prendre un Lexomil le soir qui a une durée de vie plus longue ?\"),\n",
       " (11, 'allergique au flacon , que faire?'),\n",
       " (28,\n",
       "  \"j'ai pris concerta et ça ma bip aidé, mais j'ai dû l'arrêter à cause d'un problème de coeur. il y a t'il un médicament similaire qui permet d'avoir les mêmes effet sans poser de problème sur le rythme cardiaque ?\"),\n",
       " (36,\n",
       "  \"Comment traiter une dishydrose, si le Dermoval et une préparation ( sulfate de cuivre 10mg/10L d'eau en bain ) et dermalibour n’ont pas marché ?\"),\n",
       " (32,\n",
       "  'Connaissez-vous un équivalent de la poudre absorbante Zeasorb, produit Stieffel supprimé, anciennement indiqué pour lutter contre les désagréments de la transpiration des plis des obèses, des régions génitales, des aisselles, des pieds et des mains ainsi que pour la toilette des bébés ?'),\n",
       " (28,\n",
       "  \"j’aurais aimer savoir si il n'y as pas une pilule moins dosées et moins contraignante que jasminelle (celle que je prends actuellement)\"),\n",
       " (8,\n",
       "  'je voudrais savoir si vous connaissez un crémé qui est pareil ou presque au diprosept de celle-ci mais sans ordonnance?'),\n",
       " (48,\n",
       "  \"Je prend du théralite 250 depuis très longtemps, mon psy, avait étudié, le remplacement du téralithe, et m'avait proposé le risperdal. le changement est il dangereux ?\"),\n",
       " (5, 'pneumovax est il pareil que pneumo 23'),\n",
       " (28, 'je ne supporte pas les antidépresseurs, millepertuis?'),\n",
       " (44,\n",
       "  \"j'ai une patiente qui a subi une greffe des poumons en octobre 2016 qui entre en maison de rééducation mais elle est encore sous oxygène et j'ai besoin de vos conseils pour ses lèvres gercées, car on ne peut pas appliquer de corps gras, qu’est ce que je peux lui donner ?\"),\n",
       " (28,\n",
       "  \"j'ai déjà commencé mon chemin phyto, j'ai pris de la gemmothérapie, j'essaye aussi les huiles essentielles. auriez vous d'autres pistes?\"),\n",
       " (11,\n",
       "  \"En cas d'échec traitement par Azithromycine ou Doxycycline pour chlamydiae que faire ?\"),\n",
       " (31,\n",
       "  \"Que prendre en cas de migraine et d'échec thérapeutiques aux triptans?\")]"
      ]
     },
     "execution_count": 37,
     "metadata": {},
     "output_type": "execute_result"
    }
   ],
   "source": [
    "ix = 0\n",
    "print('----------true predictions------------')\n",
    "print(t_pred[ix][:10])\n",
    "print('-----------wrong prediction------------')\n",
    "w_pred[ix]"
   ]
  },
  {
   "cell_type": "code",
   "execution_count": null,
   "metadata": {},
   "outputs": [],
   "source": []
  }
 ],
 "metadata": {
  "kernelspec": {
   "display_name": "Python 3",
   "language": "python",
   "name": "python3"
  },
  "language_info": {
   "codemirror_mode": {
    "name": "ipython",
    "version": 3
   },
   "file_extension": ".py",
   "mimetype": "text/x-python",
   "name": "python",
   "nbconvert_exporter": "python",
   "pygments_lexer": "ipython3",
   "version": "3.5.2"
  }
 },
 "nbformat": 4,
 "nbformat_minor": 2
}
