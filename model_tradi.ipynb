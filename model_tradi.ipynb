{
 "cells": [
  {
   "cell_type": "code",
   "execution_count": 46,
   "metadata": {},
   "outputs": [],
   "source": [
    "import csv\n",
    "import gensim\n",
    "import keras\n",
    "import numpy as np\n",
    "import pandas as pd\n",
    "import matplotlib.pyplot as plt\n",
    "import os\n",
    "from key_words_extract import *\n",
    "\n",
    "from keras.preprocessing import sequence, text\n",
    "from keras.utils.np_utils import to_categorical\n",
    "from sklearn.model_selection import train_test_split\n",
    "from tqdm import tqdm\n",
    "from scipy.spatial.distance import cosine"
   ]
  },
  {
   "cell_type": "code",
   "execution_count": 2,
   "metadata": {},
   "outputs": [],
   "source": [
    "RANDOM_SEED = 42\n",
    "NB_CATEGORIES = 51\n",
    "PADDING = 100\n",
    "PRE_TRAINED_DIM = 300\n",
    "REDUCED_DIM = 100\n",
    "NB_KEYWORDS = 10\n",
    "\n",
    "dataDirPath = './challenge_data'\n",
    "embeddingsDirPath = './../word_embeddings/'\n",
    "xPath = os.path.join(dataDirPath, 'input_train.csv')\n",
    "yPath = os.path.join(dataDirPath, 'output_train.csv')\n",
    "xTestPath = os.path.join(dataDirPath, 'input_test.csv')\n",
    "#embeddingPath = os.path.join(embeddingsDirPath, 'wiki.fr.vec')\n",
    "#embeddingPath = os.path.join(embeddingsDirPath, 'retrained_fr.vec')\n",
    "embeddingPath = os.path.join(embeddingsDirPath, 'retrained_questions.vec')"
   ]
  },
  {
   "cell_type": "markdown",
   "metadata": {},
   "source": [
    "## Loading Word Embeddings"
   ]
  },
  {
   "cell_type": "code",
   "execution_count": 3,
   "metadata": {},
   "outputs": [],
   "source": [
    "pretrainedEmbeddings = gensim.models.KeyedVectors.\\\n",
    "    load_word2vec_format(embeddingPath, binary=False)"
   ]
  },
  {
   "cell_type": "markdown",
   "metadata": {},
   "source": [
    "## Load data"
   ]
  },
  {
   "cell_type": "code",
   "execution_count": 78,
   "metadata": {},
   "outputs": [],
   "source": [
    "x = pd.read_csv(xPath, delimiter=';', usecols=[1]).values.ravel()\n",
    "xTest = pd.read_csv(xTestPath, delimiter=';', usecols=[1]).values.ravel()\n",
    "y = pd.read_csv(yPath, delimiter=';', usecols=[1]).values.ravel()"
   ]
  },
  {
   "cell_type": "code",
   "execution_count": 79,
   "metadata": {
    "slideshow": {
     "slide_type": "subslide"
    }
   },
   "outputs": [],
   "source": [
    "class CustomModel():\n",
    "    '''Generic workflow class.'''\n",
    "\n",
    "    def __init__(self, **kwargs):\n",
    "        self.verbose = kwargs.get('verbose', False)\n",
    "        self.nbCategories = kwargs['nbCategories']\n",
    "        self.paddingLength = PADDING\n",
    "        self.tokenizer = text.Tokenizer(num_words=1e5, \n",
    "                                        filters=\"!\\\"#$%&()*+,-./:;<=>?@[\\\\]^_`{|}~\\t\\n'´’™©®«»\",\n",
    "                                        split=\" \")\n",
    "\n",
    "    def tokenizer_fit(self, x):\n",
    "        self.tokenizer.fit_on_texts(x)\n",
    "    \n",
    "    def tokenize(self, x):\n",
    "        x = self.tokenizer.texts_to_sequences(x)\n",
    "        x = sequence.pad_sequences(x, PADDING)\n",
    "        return x\n",
    "    \n",
    "    def buildKeywords(self, x, y, k):\n",
    "        self.kwords, self.kweights = keyWordsExtract(x=x, y=y, k=k, toVector=True)\n",
    "        return self.kwords\n",
    "\n",
    "    def buildFeatures(self, x, k, embeddings):\n",
    "        x_feat = np.zeros((x.shape[0], k*self.nbCategories))\n",
    "        kindices = np.array([self.tokenizer.word_index[w] for w in self.kwords])\n",
    "        print(x.shape)\n",
    "        for i in tqdm(np.arange(x.shape[0])):\n",
    "            xx = x[i]\n",
    "            for j, keyword in enumerate(kindices):\n",
    "                if keyword in xx:\n",
    "                    x_feat[i, j] = 1\n",
    "        return x_feat\n",
    "    \n",
    "    def train_xgboost(self, x, y):\n",
    "        return\n",
    "       \n",
    "    def evaluate(self, x, y):\n",
    "        return self.model.evaluate(x, y)\n",
    "\n",
    "    def predict(self, x):\n",
    "        return self.model.predict(x)"
   ]
  },
  {
   "cell_type": "markdown",
   "metadata": {},
   "source": [
    "### Downsampling"
   ]
  },
  {
   "cell_type": "code",
   "execution_count": 80,
   "metadata": {},
   "outputs": [],
   "source": [
    "def downsample(x, y, threshold=None, show=False):\n",
    "    nb_categories = len(set(y))\n",
    "    if threshold is None:\n",
    "        countCategories = [0] * nb_categories\n",
    "        for point in y:\n",
    "            countCategories[point] += 1\n",
    "        indexedCountCategories = list(zip(list(range(nb_categories)), countCategories))\n",
    "        selectedCategories = list(filter(lambda x: x[1] > 100, indexedCountCategories))\n",
    "        #threshold = np.percentile([cat[1] for cat in selectedCategories], 75)\n",
    "        threshold = np.mean([cat[1] for cat in selectedCategories])\n",
    "    print('Thresholding each category to {} datapoints.'.format(threshold))\n",
    "    X = []\n",
    "    Y = []\n",
    "    count_categories = np.zeros(nb_categories)\n",
    "    for xx, yy in zip(x, y):\n",
    "        if count_categories[yy] <= threshold:\n",
    "            X.append(xx)\n",
    "            Y.append(yy)\n",
    "            count_categories[yy]+=1\n",
    "    X = np.array(X)\n",
    "    Y = np.array(Y)\n",
    "    if show == True:\n",
    "        plt.figure(figsize=(15, 5))\n",
    "        plt.hist(Y, bins=nb_categories, label='train labels', density=False, alpha=1)\n",
    "        plt.axis\n",
    "        plt.legend()\n",
    "        plt.show()\n",
    "    return X, Y"
   ]
  },
  {
   "cell_type": "code",
   "execution_count": 81,
   "metadata": {},
   "outputs": [
    {
     "name": "stdout",
     "output_type": "stream",
     "text": [
      "Thresholding each category to 800 datapoints.\n"
     ]
    },
    {
     "data": {
      "image/png": "[encoded data removed]",
      "text/plain": [
       "<matplotlib.figure.Figure at 0x7f7835940470>"
      ]
     },
     "metadata": {},
     "output_type": "display_data"
    }
   ],
   "source": [
    "x, y = downsample(x, y, threshold=2000, show=True)"
   ]
  },
  {
   "cell_type": "markdown",
   "metadata": {},
   "source": [
    "## Preprocessing"
   ]
  },
  {
   "cell_type": "code",
   "execution_count": 82,
   "metadata": {},
   "outputs": [
    {
     "name": "stdout",
     "output_type": "stream",
     "text": [
      "6971\n"
     ]
    }
   ],
   "source": [
    "correctionsDict = {}\n",
    "correctionsPath = os.path.join(dataDirPath, 'corrections.csv')\n",
    "\n",
    "with open(correctionsPath, 'r') as f:\n",
    "    for key, val in csv.reader(f):\n",
    "        correctionsDict[key] = val\n",
    "\n",
    "def spellingCorrection(sentence, correctionsDict={}, verbose=False):\n",
    "    correctedSentence = []\n",
    "    nb_corrections = 0\n",
    "    for word in sentence.split():\n",
    "        if word in correctionsDict.keys():\n",
    "            word = correctionsDict[word]\n",
    "            nb_corrections += 1\n",
    "        correctedSentence.append(word)\n",
    "    if verbose:\n",
    "        return ' '.join(correctedSentence), nb_corrections\n",
    "    else:\n",
    "        return ' '.join(correctedSentence)\n",
    "\n",
    "nb_corr = 0\n",
    "for i, s in enumerate(x):\n",
    "    cor = spellingCorrection(s, correctionsDict, verbose = True)\n",
    "    x[i] = cor[0]\n",
    "    nb_corr += cor[1]\n",
    "\n",
    "for i, s in enumerate(xTest):\n",
    "    cor = spellingCorrection(s, correctionsDict, verbose = True)\n",
    "    xTest[i] = cor[0]\n",
    "    nb_corr += cor[1]\n",
    "print(nb_corr)"
   ]
  },
  {
   "cell_type": "markdown",
   "metadata": {},
   "source": [
    "### Tokenizing"
   ]
  },
  {
   "cell_type": "code",
   "execution_count": 83,
   "metadata": {},
   "outputs": [
    {
     "name": "stdout",
     "output_type": "stream",
     "text": [
      "Vocabulary size:  9563\n"
     ]
    }
   ],
   "source": [
    "# we need to create the model here\n",
    "model = CustomModel(verbose=True, nbCategories=NB_CATEGORIES)\n",
    "model.tokenizer_fit(np.concatenate((x, xTest)))\n",
    "vocabulary = model.tokenizer.word_index.keys()\n",
    "print('Vocabulary size: ', len(vocabulary))"
   ]
  },
  {
   "cell_type": "code",
   "execution_count": 84,
   "metadata": {},
   "outputs": [],
   "source": [
    "#selectCat(x, y, 10)\n",
    "# if a dictionnary {cat: [keywords]} is wanted, set toVector = False\n",
    "model.buildKeywords(x, y, k = NB_KEYWORDS)\n",
    "\n",
    "x = model.tokenize(x)\n",
    "xTest = model.tokenize(xTest)\n",
    "#y = to_categorical(y, num_classes=NB_CATEGORIES)"
   ]
  },
  {
   "cell_type": "code",
   "execution_count": 85,
   "metadata": {},
   "outputs": [
    {
     "name": "stdout",
     "output_type": "stream",
     "text": [
      "Liste de médicaments regroupant les libéllés ATC et lesdénominations de spécialité, de taille: 8390\n",
      "Sample of medicament names:  ['a 313 200  pour cent', 'a 313 50 000 u.i', 'abacavir', 'abacavir/lamivudine', 'abacavir/lamivudine pharma', 'abacavir/lamivudine pharos', 'abamipharm', 'abboticine', 'abelcet', 'abstral']\n"
     ]
    }
   ],
   "source": [
    "MEDICAMENTS = []\n",
    "\n",
    "with open(os.path.join(dataDirPath, 'medicList.txt')) as f:\n",
    "    for line in f:\n",
    "        MEDICAMENTS.append(line.lower().rstrip())\n",
    "\n",
    "print('Liste de médicaments regroupant les libéllés ATC et les'\n",
    "      'dénominations de spécialité, de taille: {}'.format(len(MEDICAMENTS)))\n",
    "print('Sample of medicament names: ', MEDICAMENTS[:10])"
   ]
  },
  {
   "cell_type": "code",
   "execution_count": 86,
   "metadata": {},
   "outputs": [],
   "source": [
    "from unidecode import unidecode"
   ]
  },
  {
   "cell_type": "code",
   "execution_count": 87,
   "metadata": {},
   "outputs": [],
   "source": [
    "embeddings = np.zeros((len(vocabulary) + 1 , PRE_TRAINED_DIM))\n",
    "not_in_pretrained = []\n",
    "detected_medic = []\n",
    "\n",
    "for word, idx in model.tokenizer.word_index.items():\n",
    "    if word not in pretrainedEmbeddings.vocab:\n",
    "        unaccented = unidecode(word)\n",
    "        if word in MEDICAMENTS:\n",
    "            vec = pretrainedEmbeddings['médicament']\n",
    "            detected_medic.append(word)\n",
    "        else:\n",
    "            vec = np.zeros(PRE_TRAINED_DIM)\n",
    "            not_in_pretrained.append(word)\n",
    "    else:\n",
    "        vec = pretrainedEmbeddings[word]\n",
    "\n",
    "    # word_to_index is 1-based! the 0-th row, used for padding, stays at zero\n",
    "    embeddings[idx,] = vec"
   ]
  },
  {
   "cell_type": "code",
   "execution_count": 88,
   "metadata": {},
   "outputs": [
    {
     "name": "stdout",
     "output_type": "stream",
     "text": [
      "---------- Embedding Created ----------\n",
      "Number of words in corpus that do not appear in pretrained Fasttext:  1043\n",
      "size of the embedding: (9564, 300)\n"
     ]
    }
   ],
   "source": [
    "print('---------- Embedding Created ----------')\n",
    "print('Number of words in corpus that do not appear in '\n",
    "      'pretrained Fasttext: ', len(not_in_pretrained))\n",
    "print('size of the embedding: {}'.format(embeddings.shape))"
   ]
  },
  {
   "cell_type": "code",
   "execution_count": 89,
   "metadata": {},
   "outputs": [],
   "source": [
    "from sklearn.decomposition import PCA\n",
    "pca = PCA(n_components=REDUCED_DIM)\n",
    "reducedEmbeddings = pca.fit_transform(embeddings)"
   ]
  },
  {
   "cell_type": "code",
   "execution_count": 90,
   "metadata": {},
   "outputs": [],
   "source": [
    "xTrain, xValid, yTrain, yValid = train_test_split(x, y, test_size=.2,\n",
    "                                                  random_state=RANDOM_SEED)"
   ]
  },
  {
   "cell_type": "code",
   "execution_count": 91,
   "metadata": {},
   "outputs": [
    {
     "name": "stderr",
     "output_type": "stream",
     "text": [
      "  1%|          | 54/5626 [00:00<00:10, 538.39it/s]"
     ]
    },
    {
     "name": "stdout",
     "output_type": "stream",
     "text": [
      "(5626, 100)\n"
     ]
    },
    {
     "name": "stderr",
     "output_type": "stream",
     "text": [
      "100%|██████████| 5626/5626 [00:10<00:00, 526.79it/s]\n"
     ]
    }
   ],
   "source": [
    "fTrain = model.buildFeatures(x=xTrain, k=NB_KEYWORDS, embeddings=reducedEmbeddings)"
   ]
  },
  {
   "cell_type": "code",
   "execution_count": 92,
   "metadata": {},
   "outputs": [
    {
     "name": "stderr",
     "output_type": "stream",
     "text": [
      "  4%|▍         | 54/1407 [00:00<00:02, 535.41it/s]"
     ]
    },
    {
     "name": "stdout",
     "output_type": "stream",
     "text": [
      "(1407, 100)\n"
     ]
    },
    {
     "name": "stderr",
     "output_type": "stream",
     "text": [
      "100%|██████████| 1407/1407 [00:02<00:00, 513.96it/s]\n"
     ]
    }
   ],
   "source": [
    "fValid = model.buildFeatures(x=xValid, k=NB_KEYWORDS, embeddings=reducedEmbeddings)"
   ]
  },
  {
   "cell_type": "markdown",
   "metadata": {},
   "source": [
    "### Random Forest"
   ]
  },
  {
   "cell_type": "code",
   "execution_count": 93,
   "metadata": {},
   "outputs": [],
   "source": [
    "from sklearn.ensemble import RandomForestClassifier\n",
    "from sklearn.metrics import accuracy_score"
   ]
  },
  {
   "cell_type": "code",
   "execution_count": 94,
   "metadata": {},
   "outputs": [
    {
     "name": "stderr",
     "output_type": "stream",
     "text": [
      "[Parallel(n_jobs=1)]: Done  50 out of  50 | elapsed:    1.9s finished\n"
     ]
    }
   ],
   "source": [
    "clf = RandomForestClassifier(n_estimators=50, verbose =True)\n",
    "clf = clf.fit(fTrain, yTrain)"
   ]
  },
  {
   "cell_type": "code",
   "execution_count": 95,
   "metadata": {},
   "outputs": [
    {
     "name": "stdout",
     "output_type": "stream",
     "text": [
      "Accuracy: 47.76119402985074\n"
     ]
    },
    {
     "name": "stderr",
     "output_type": "stream",
     "text": [
      "[Parallel(n_jobs=1)]: Done  50 out of  50 | elapsed:    0.1s finished\n"
     ]
    }
   ],
   "source": [
    "predictionCategories = clf.predict(fValid)\n",
    "accuracy = accuracy_score(yValid, predictionCategories)\n",
    "print(\"Accuracy: {}\".format(accuracy*100.0))"
   ]
  },
  {
   "cell_type": "markdown",
   "metadata": {},
   "source": [
    "### Vizualisation of the classification results"
   ]
  },
  {
   "cell_type": "code",
   "execution_count": 96,
   "metadata": {},
   "outputs": [],
   "source": [
    "import collections"
   ]
  },
  {
   "cell_type": "code",
   "execution_count": 97,
   "metadata": {},
   "outputs": [],
   "source": [
    "yPosition = np.arange(2*NB_CATEGORIES)\n",
    "\n",
    "c = collections.Counter(yValid)\n",
    "od = collections.OrderedDict(sorted(c.items(), key=lambda x: x[0]))\n",
    "cp = collections.Counter(predictionCategories)\n",
    "odp = collections.OrderedDict(sorted(cp.items(), key=lambda x: x[0]))\n",
    "\n",
    "correctResults = predictionCategories[predictionCategories == yValid]\n",
    "cc = collections.Counter(correctResults)\n",
    "odc = collections.OrderedDict(sorted(cc.items(), key=lambda x: x[0]))"
   ]
  },
  {
   "cell_type": "code",
   "execution_count": 98,
   "metadata": {},
   "outputs": [],
   "source": [
    "pod = np.zeros(2*NB_CATEGORIES)\n",
    "for key in od:\n",
    "    pod[2*key] = od[key]\n",
    "\n",
    "podp = np.zeros(2*NB_CATEGORIES)\n",
    "for key in odp:\n",
    "    podp[2*key+1] = odp[key]\n",
    "\n",
    "podc = np.zeros(2*NB_CATEGORIES)\n",
    "for key in odc:\n",
    "    podc[2*key+1] = odc[key]"
   ]
  },
  {
   "cell_type": "code",
   "execution_count": 99,
   "metadata": {},
   "outputs": [
    {
     "data": {
      "image/png": "[encoded data removed]",
      "text/plain": [
       "<matplotlib.figure.Figure at 0x7f783585ffd0>"
      ]
     },
     "metadata": {},
     "output_type": "display_data"
    }
   ],
   "source": [
    "plt.figure(figsize=(15,8))\n",
    "#plt.yscale('log')\n",
    "\n",
    "plt.bar(yPosition, pod, alpha=0.7, label='Appeared')\n",
    "plt.bar(yPosition, podp, alpha=0.5, label='Predicted')\n",
    "plt.bar(yPosition, podc, alpha=0.5, label='Correctly Predicted')\n",
    "\n",
    "plt.ylabel('Unique count')\n",
    "plt.title('Categories')\n",
    "plt.legend()\n",
    " \n",
    "plt.show()"
   ]
  },
  {
   "cell_type": "code",
   "execution_count": null,
   "metadata": {},
   "outputs": [],
   "source": []
  },
  {
   "cell_type": "code",
   "execution_count": null,
   "metadata": {},
   "outputs": [],
   "source": []
  }
 ],
 "metadata": {
  "kernelspec": {
   "display_name": "Python 3",
   "language": "python",
   "name": "python3"
  },
  "language_info": {
   "codemirror_mode": {
    "name": "ipython",
    "version": 3
   },
   "file_extension": ".py",
   "mimetype": "text/x-python",
   "name": "python",
   "nbconvert_exporter": "python",
   "pygments_lexer": "ipython3",
   "version": "3.5.2"
  }
 },
 "nbformat": 4,
 "nbformat_minor": 2
}
